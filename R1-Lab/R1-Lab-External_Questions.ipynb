{
 "cells": [
  {
   "cell_type": "markdown",
   "metadata": {},
   "source": [
    "# External Lab"
   ]
  },
  {
   "cell_type": "markdown",
   "metadata": {},
   "source": [
    "# Part-1"
   ]
  },
  {
   "cell_type": "markdown",
   "metadata": {},
   "source": [
    "## About the dataset\n",
    "\n",
    "This is perhaps the best known database to be found in the pattern recognition literature. The data set contains 3 classes of 50 instances each, where each class refers to a type of iris plant.  One class is linearly separable from the other 2; the latter are NOT linearly separable from each other.\n",
    "\n",
    "Attribute Information:\n",
    "   1. sepal length in cm\n",
    "   2. sepal width in cm\n",
    "   3. petal length in cm\n",
    "   4. petal width in cm\n",
    "   5. class: \n",
    "      -- Iris Setosa\n",
    "      -- Iris Versicolour\n",
    "      -- Iris Virginica"
   ]
  },
  {
   "cell_type": "markdown",
   "metadata": {},
   "source": [
    "### Read the dataset and store it in the dataframe named Iris"
   ]
  },
  {
   "cell_type": "code",
   "execution_count": 4,
   "metadata": {},
   "outputs": [
    {
     "name": "stdout",
     "output_type": "stream",
     "text": [
      "   Sepal Length (in cm)  Sepal Width in (cm)  Petal length (in cm)  \\\n",
      "0                   5.1                  3.5                   1.4   \n",
      "1                   4.9                  3.0                   1.4   \n",
      "2                   4.7                  3.2                   1.3   \n",
      "3                   4.6                  3.1                   1.5   \n",
      "4                   5.0                  3.6                   1.4   \n",
      "\n",
      "   Petal width (in cm)        Class  \n",
      "0                  0.2  Iris-setosa  \n",
      "1                  0.2  Iris-setosa  \n",
      "2                  0.2  Iris-setosa  \n",
      "3                  0.2  Iris-setosa  \n",
      "4                  0.2  Iris-setosa  \n"
     ]
    }
   ],
   "source": [
    "import pandas as pd\n",
    "dataframe=pd.read_csv(\"D:/Python/lab1/Iris.csv\")# loaded the csv file\n",
    "print(dataframe.head())"
   ]
  },
  {
   "cell_type": "markdown",
   "metadata": {},
   "source": [
    "### Find out the datatypes of each and every column"
   ]
  },
  {
   "cell_type": "code",
   "execution_count": 5,
   "metadata": {},
   "outputs": [
    {
     "name": "stdout",
     "output_type": "stream",
     "text": [
      "<class 'pandas.core.frame.DataFrame'>\n",
      "RangeIndex: 150 entries, 0 to 149\n",
      "Data columns (total 5 columns):\n",
      "Sepal Length (in cm)    150 non-null float64\n",
      "Sepal Width in (cm)     150 non-null float64\n",
      "Petal length (in cm)    150 non-null float64\n",
      "Petal width (in cm)     150 non-null float64\n",
      "Class                   150 non-null object\n",
      "dtypes: float64(4), object(1)\n",
      "memory usage: 6.0+ KB\n",
      "None\n"
     ]
    }
   ],
   "source": [
    "print(dataframe.info())#used the standard method to verify the datatypes"
   ]
  },
  {
   "cell_type": "markdown",
   "metadata": {},
   "source": [
    "### Print top 10 & bottom 10 samples from the dataframe"
   ]
  },
  {
   "cell_type": "code",
   "execution_count": 314,
   "metadata": {},
   "outputs": [
    {
     "name": "stdout",
     "output_type": "stream",
     "text": [
      "   Sepal Length (in cm)  Sepal Width in (cm)  Petal length (in cm)  \\\n",
      "0                   5.1                  3.5                   1.4   \n",
      "1                   4.9                  3.0                   1.4   \n",
      "2                   4.7                  3.2                   1.3   \n",
      "3                   4.6                  3.1                   1.5   \n",
      "4                   5.0                  3.6                   1.4   \n",
      "5                   5.4                  3.9                   1.7   \n",
      "6                   4.6                  3.4                   1.4   \n",
      "7                   5.0                  3.4                   1.5   \n",
      "8                   4.4                  2.9                   1.4   \n",
      "9                   4.9                  3.1                   1.5   \n",
      "\n",
      "   Petal width (in cm)        Class  SepalExtra  \n",
      "0                  0.2  Iris-setosa       17.85  \n",
      "1                  0.2  Iris-setosa       14.70  \n",
      "2                  0.2  Iris-setosa       15.04  \n",
      "3                  0.2  Iris-setosa       14.26  \n",
      "4                  0.2  Iris-setosa       18.00  \n",
      "5                  0.4  Iris-setosa       21.06  \n",
      "6                  0.3  Iris-setosa       15.64  \n",
      "7                  0.2  Iris-setosa       17.00  \n",
      "8                  0.2  Iris-setosa       12.76  \n",
      "9                  0.1  Iris-setosa       15.19  \n",
      "     Sepal Length (in cm)  Sepal Width in (cm)  Petal length (in cm)  \\\n",
      "140                   6.7                  3.1                   5.6   \n",
      "141                   6.9                  3.1                   5.1   \n",
      "142                   5.8                  2.7                   5.1   \n",
      "143                   6.8                  3.2                   5.9   \n",
      "144                   6.7                  3.3                   5.7   \n",
      "145                   6.7                  3.0                   5.2   \n",
      "146                   6.3                  2.5                   5.0   \n",
      "147                   6.5                  3.0                   5.2   \n",
      "148                   6.2                  3.4                   5.4   \n",
      "149                   5.9                  3.0                   5.1   \n",
      "\n",
      "     Petal width (in cm)           Class  SepalExtra  \n",
      "140                  2.4  Iris-virginica       20.77  \n",
      "141                  2.3  Iris-virginica       21.39  \n",
      "142                  1.9  Iris-virginica       15.66  \n",
      "143                  2.3  Iris-virginica       21.76  \n",
      "144                  2.5  Iris-virginica       22.11  \n",
      "145                  2.3  Iris-virginica       20.10  \n",
      "146                  1.9  Iris-virginica       15.75  \n",
      "147                  2.0  Iris-virginica       19.50  \n",
      "148                  2.3  Iris-virginica       21.08  \n",
      "149                  1.8  Iris-virginica       17.70  \n",
      "None\n"
     ]
    }
   ],
   "source": [
    "print(dataframe.head(10)) # print top 10\n",
    "print(print(dataframe.tail(10))) # print bottom 10"
   ]
  },
  {
   "cell_type": "markdown",
   "metadata": {},
   "source": [
    "### Find the shape of the dataset"
   ]
  },
  {
   "cell_type": "code",
   "execution_count": 74,
   "metadata": {},
   "outputs": [
    {
     "name": "stdout",
     "output_type": "stream",
     "text": [
      "(150, 5)\n",
      "750\n",
      "2\n",
      "     Petal length (in cm)  Petal width (in cm)\n",
      "5                     1.7                  0.4\n",
      "10                    1.5                  0.2\n",
      "14                    1.2                  0.2\n",
      "15                    1.5                  0.4\n",
      "16                    1.3                  0.4\n",
      "..                    ...                  ...\n",
      "145                   5.2                  2.3\n",
      "146                   5.0                  1.9\n",
      "147                   5.2                  2.0\n",
      "148                   5.4                  2.3\n",
      "149                   5.1                  1.8\n",
      "\n",
      "[109 rows x 2 columns]\n"
     ]
    }
   ],
   "source": [
    "print(dataframe.shape) #shape of the dataset\n",
    "print(dataframe.size)# size of the dataset row X columns\n",
    "print(dataframe.ndim)\n"
   ]
  },
  {
   "cell_type": "markdown",
   "metadata": {},
   "source": [
    "### Set the index of the dataframe to be the first column"
   ]
  },
  {
   "cell_type": "code",
   "execution_count": 41,
   "metadata": {},
   "outputs": [
    {
     "data": {
      "text/html": [
       "<div>\n",
       "<style scoped>\n",
       "    .dataframe tbody tr th:only-of-type {\n",
       "        vertical-align: middle;\n",
       "    }\n",
       "\n",
       "    .dataframe tbody tr th {\n",
       "        vertical-align: top;\n",
       "    }\n",
       "\n",
       "    .dataframe thead th {\n",
       "        text-align: right;\n",
       "    }\n",
       "</style>\n",
       "<table border=\"1\" class=\"dataframe\">\n",
       "  <thead>\n",
       "    <tr style=\"text-align: right;\">\n",
       "      <th></th>\n",
       "      <th>Sepal Length (in cm)</th>\n",
       "      <th>Sepal Width in (cm)</th>\n",
       "      <th>Petal length (in cm)</th>\n",
       "      <th>Petal width (in cm)</th>\n",
       "      <th>Class</th>\n",
       "    </tr>\n",
       "    <tr>\n",
       "      <th>Sepal Length (in cm)</th>\n",
       "      <th></th>\n",
       "      <th></th>\n",
       "      <th></th>\n",
       "      <th></th>\n",
       "      <th></th>\n",
       "    </tr>\n",
       "  </thead>\n",
       "  <tbody>\n",
       "    <tr>\n",
       "      <td>5.1</td>\n",
       "      <td>5.1</td>\n",
       "      <td>3.5</td>\n",
       "      <td>1.4</td>\n",
       "      <td>0.2</td>\n",
       "      <td>Iris-setosa</td>\n",
       "    </tr>\n",
       "    <tr>\n",
       "      <td>4.9</td>\n",
       "      <td>4.9</td>\n",
       "      <td>3.0</td>\n",
       "      <td>1.4</td>\n",
       "      <td>0.2</td>\n",
       "      <td>Iris-setosa</td>\n",
       "    </tr>\n",
       "    <tr>\n",
       "      <td>4.7</td>\n",
       "      <td>4.7</td>\n",
       "      <td>3.2</td>\n",
       "      <td>1.3</td>\n",
       "      <td>0.2</td>\n",
       "      <td>Iris-setosa</td>\n",
       "    </tr>\n",
       "    <tr>\n",
       "      <td>4.6</td>\n",
       "      <td>4.6</td>\n",
       "      <td>3.1</td>\n",
       "      <td>1.5</td>\n",
       "      <td>0.2</td>\n",
       "      <td>Iris-setosa</td>\n",
       "    </tr>\n",
       "    <tr>\n",
       "      <td>5.0</td>\n",
       "      <td>5.0</td>\n",
       "      <td>3.6</td>\n",
       "      <td>1.4</td>\n",
       "      <td>0.2</td>\n",
       "      <td>Iris-setosa</td>\n",
       "    </tr>\n",
       "    <tr>\n",
       "      <td>...</td>\n",
       "      <td>...</td>\n",
       "      <td>...</td>\n",
       "      <td>...</td>\n",
       "      <td>...</td>\n",
       "      <td>...</td>\n",
       "    </tr>\n",
       "    <tr>\n",
       "      <td>6.7</td>\n",
       "      <td>6.7</td>\n",
       "      <td>3.0</td>\n",
       "      <td>5.2</td>\n",
       "      <td>2.3</td>\n",
       "      <td>Iris-virginica</td>\n",
       "    </tr>\n",
       "    <tr>\n",
       "      <td>6.3</td>\n",
       "      <td>6.3</td>\n",
       "      <td>2.5</td>\n",
       "      <td>5.0</td>\n",
       "      <td>1.9</td>\n",
       "      <td>Iris-virginica</td>\n",
       "    </tr>\n",
       "    <tr>\n",
       "      <td>6.5</td>\n",
       "      <td>6.5</td>\n",
       "      <td>3.0</td>\n",
       "      <td>5.2</td>\n",
       "      <td>2.0</td>\n",
       "      <td>Iris-virginica</td>\n",
       "    </tr>\n",
       "    <tr>\n",
       "      <td>6.2</td>\n",
       "      <td>6.2</td>\n",
       "      <td>3.4</td>\n",
       "      <td>5.4</td>\n",
       "      <td>2.3</td>\n",
       "      <td>Iris-virginica</td>\n",
       "    </tr>\n",
       "    <tr>\n",
       "      <td>5.9</td>\n",
       "      <td>5.9</td>\n",
       "      <td>3.0</td>\n",
       "      <td>5.1</td>\n",
       "      <td>1.8</td>\n",
       "      <td>Iris-virginica</td>\n",
       "    </tr>\n",
       "  </tbody>\n",
       "</table>\n",
       "<p>150 rows × 5 columns</p>\n",
       "</div>"
      ],
      "text/plain": [
       "                      Sepal Length (in cm)  Sepal Width in (cm)  \\\n",
       "Sepal Length (in cm)                                              \n",
       "5.1                                    5.1                  3.5   \n",
       "4.9                                    4.9                  3.0   \n",
       "4.7                                    4.7                  3.2   \n",
       "4.6                                    4.6                  3.1   \n",
       "5.0                                    5.0                  3.6   \n",
       "...                                    ...                  ...   \n",
       "6.7                                    6.7                  3.0   \n",
       "6.3                                    6.3                  2.5   \n",
       "6.5                                    6.5                  3.0   \n",
       "6.2                                    6.2                  3.4   \n",
       "5.9                                    5.9                  3.0   \n",
       "\n",
       "                      Petal length (in cm)  Petal width (in cm)  \\\n",
       "Sepal Length (in cm)                                              \n",
       "5.1                                    1.4                  0.2   \n",
       "4.9                                    1.4                  0.2   \n",
       "4.7                                    1.3                  0.2   \n",
       "4.6                                    1.5                  0.2   \n",
       "5.0                                    1.4                  0.2   \n",
       "...                                    ...                  ...   \n",
       "6.7                                    5.2                  2.3   \n",
       "6.3                                    5.0                  1.9   \n",
       "6.5                                    5.2                  2.0   \n",
       "6.2                                    5.4                  2.3   \n",
       "5.9                                    5.1                  1.8   \n",
       "\n",
       "                               Class  \n",
       "Sepal Length (in cm)                  \n",
       "5.1                      Iris-setosa  \n",
       "4.9                      Iris-setosa  \n",
       "4.7                      Iris-setosa  \n",
       "4.6                      Iris-setosa  \n",
       "5.0                      Iris-setosa  \n",
       "...                              ...  \n",
       "6.7                   Iris-virginica  \n",
       "6.3                   Iris-virginica  \n",
       "6.5                   Iris-virginica  \n",
       "6.2                   Iris-virginica  \n",
       "5.9                   Iris-virginica  \n",
       "\n",
       "[150 rows x 5 columns]"
      ]
     },
     "execution_count": 41,
     "metadata": {},
     "output_type": "execute_result"
    }
   ],
   "source": [
    "dataframe.set_index(dataframe.iloc[:,0]) # set the index"
   ]
  },
  {
   "cell_type": "code",
   "execution_count": 73,
   "metadata": {},
   "outputs": [
    {
     "name": "stdout",
     "output_type": "stream",
     "text": [
      "     Petal length (in cm)  Petal width (in cm)\n",
      "5                     1.7                  0.4\n",
      "10                    1.5                  0.2\n",
      "14                    1.2                  0.2\n",
      "15                    1.5                  0.4\n",
      "16                    1.3                  0.4\n",
      "..                    ...                  ...\n",
      "145                   5.2                  2.3\n",
      "146                   5.0                  1.9\n",
      "147                   5.2                  2.0\n",
      "148                   5.4                  2.3\n",
      "149                   5.1                  1.8\n",
      "\n",
      "[109 rows x 2 columns]\n"
     ]
    }
   ],
   "source": []
  },
  {
   "cell_type": "markdown",
   "metadata": {},
   "source": [
    "### Use iloc function to print all the rows of the 3rd column "
   ]
  },
  {
   "cell_type": "code",
   "execution_count": 24,
   "metadata": {},
   "outputs": [
    {
     "name": "stdout",
     "output_type": "stream",
     "text": [
      "0      0.2\n",
      "1      0.2\n",
      "2      0.2\n",
      "3      0.2\n",
      "4      0.2\n",
      "      ... \n",
      "145    2.3\n",
      "146    1.9\n",
      "147    2.0\n",
      "148    2.3\n",
      "149    1.8\n",
      "Name: Petal width (in cm), Length: 150, dtype: float64\n"
     ]
    }
   ],
   "source": [
    "print(dataframe.iloc[:,3]) # print the row and column"
   ]
  },
  {
   "cell_type": "markdown",
   "metadata": {},
   "source": [
    "### Slicing\n",
    "Print only the Sepal width and Sepal Length for first 10 rows "
   ]
  },
  {
   "cell_type": "code",
   "execution_count": 84,
   "metadata": {},
   "outputs": [
    {
     "name": "stdout",
     "output_type": "stream",
     "text": [
      "   Sepal Length (in cm)  Sepal Width in (cm)\n",
      "0                   5.1                  3.5\n",
      "1                   4.9                  3.0\n",
      "2                   4.7                  3.2\n",
      "3                   4.6                  3.1\n",
      "4                   5.0                  3.6\n",
      "5                   5.4                  3.9\n",
      "6                   4.6                  3.4\n",
      "7                   5.0                  3.4\n",
      "8                   4.4                  2.9\n",
      "9                   4.9                  3.1\n",
      "    Sepal Length (in cm)  Sepal Width in (cm)\n",
      "0                    5.1                  3.5\n",
      "1                    4.9                  3.0\n",
      "2                    4.7                  3.2\n",
      "3                    4.6                  3.1\n",
      "4                    5.0                  3.6\n",
      "5                    5.4                  3.9\n",
      "6                    4.6                  3.4\n",
      "7                    5.0                  3.4\n",
      "8                    4.4                  2.9\n",
      "9                    4.9                  3.1\n",
      "10                   5.4                  3.7\n"
     ]
    }
   ],
   "source": [
    "print(dataframe.iloc[0:10,0:2]) # used the iloc method to print 10 row\n",
    "print(dataframe.loc[0:10,[\"Sepal Length (in cm)\",\"Sepal Width in (cm)\"]])# used the loc method to print 10 row"
   ]
  },
  {
   "cell_type": "markdown",
   "metadata": {},
   "source": [
    "### Using Logical statements for indexing\n",
    "Print all the columns of row which has class name \"Iris-setosa\""
   ]
  },
  {
   "cell_type": "code",
   "execution_count": 88,
   "metadata": {},
   "outputs": [
    {
     "name": "stdout",
     "output_type": "stream",
     "text": [
      "    Sepal Length (in cm)  Sepal Width in (cm)  Petal length (in cm)  \\\n",
      "0                    5.1                  3.5                   1.4   \n",
      "1                    4.9                  3.0                   1.4   \n",
      "2                    4.7                  3.2                   1.3   \n",
      "3                    4.6                  3.1                   1.5   \n",
      "4                    5.0                  3.6                   1.4   \n",
      "5                    5.4                  3.9                   1.7   \n",
      "6                    4.6                  3.4                   1.4   \n",
      "7                    5.0                  3.4                   1.5   \n",
      "8                    4.4                  2.9                   1.4   \n",
      "9                    4.9                  3.1                   1.5   \n",
      "10                   5.4                  3.7                   1.5   \n",
      "11                   4.8                  3.4                   1.6   \n",
      "12                   4.8                  3.0                   1.4   \n",
      "13                   4.3                  3.0                   1.1   \n",
      "14                   5.8                  4.0                   1.2   \n",
      "15                   5.7                  4.4                   1.5   \n",
      "16                   5.4                  3.9                   1.3   \n",
      "17                   5.1                  3.5                   1.4   \n",
      "18                   5.7                  3.8                   1.7   \n",
      "19                   5.1                  3.8                   1.5   \n",
      "20                   5.4                  3.4                   1.7   \n",
      "21                   5.1                  3.7                   1.5   \n",
      "22                   4.6                  3.6                   1.0   \n",
      "23                   5.1                  3.3                   1.7   \n",
      "24                   4.8                  3.4                   1.9   \n",
      "25                   5.0                  3.0                   1.6   \n",
      "26                   5.0                  3.4                   1.6   \n",
      "27                   5.2                  3.5                   1.5   \n",
      "28                   5.2                  3.4                   1.4   \n",
      "29                   4.7                  3.2                   1.6   \n",
      "30                   4.8                  3.1                   1.6   \n",
      "31                   5.4                  3.4                   1.5   \n",
      "32                   5.2                  4.1                   1.5   \n",
      "33                   5.5                  4.2                   1.4   \n",
      "34                   4.9                  3.1                   1.5   \n",
      "35                   5.0                  3.2                   1.2   \n",
      "36                   5.5                  3.5                   1.3   \n",
      "37                   4.9                  3.1                   1.5   \n",
      "38                   4.4                  3.0                   1.3   \n",
      "39                   5.1                  3.4                   1.5   \n",
      "40                   5.0                  3.5                   1.3   \n",
      "41                   4.5                  2.3                   1.3   \n",
      "42                   4.4                  3.2                   1.3   \n",
      "43                   5.0                  3.5                   1.6   \n",
      "44                   5.1                  3.8                   1.9   \n",
      "45                   4.8                  3.0                   1.4   \n",
      "46                   5.1                  3.8                   1.6   \n",
      "47                   4.6                  3.2                   1.4   \n",
      "48                   5.3                  3.7                   1.5   \n",
      "49                   5.0                  3.3                   1.4   \n",
      "\n",
      "    Petal width (in cm)        Class  \n",
      "0                   0.2  Iris-setosa  \n",
      "1                   0.2  Iris-setosa  \n",
      "2                   0.2  Iris-setosa  \n",
      "3                   0.2  Iris-setosa  \n",
      "4                   0.2  Iris-setosa  \n",
      "5                   0.4  Iris-setosa  \n",
      "6                   0.3  Iris-setosa  \n",
      "7                   0.2  Iris-setosa  \n",
      "8                   0.2  Iris-setosa  \n",
      "9                   0.1  Iris-setosa  \n",
      "10                  0.2  Iris-setosa  \n",
      "11                  0.2  Iris-setosa  \n",
      "12                  0.1  Iris-setosa  \n",
      "13                  0.1  Iris-setosa  \n",
      "14                  0.2  Iris-setosa  \n",
      "15                  0.4  Iris-setosa  \n",
      "16                  0.4  Iris-setosa  \n",
      "17                  0.3  Iris-setosa  \n",
      "18                  0.3  Iris-setosa  \n",
      "19                  0.3  Iris-setosa  \n",
      "20                  0.2  Iris-setosa  \n",
      "21                  0.4  Iris-setosa  \n",
      "22                  0.2  Iris-setosa  \n",
      "23                  0.5  Iris-setosa  \n",
      "24                  0.2  Iris-setosa  \n",
      "25                  0.2  Iris-setosa  \n",
      "26                  0.4  Iris-setosa  \n",
      "27                  0.2  Iris-setosa  \n",
      "28                  0.2  Iris-setosa  \n",
      "29                  0.2  Iris-setosa  \n",
      "30                  0.2  Iris-setosa  \n",
      "31                  0.4  Iris-setosa  \n",
      "32                  0.1  Iris-setosa  \n",
      "33                  0.2  Iris-setosa  \n",
      "34                  0.1  Iris-setosa  \n",
      "35                  0.2  Iris-setosa  \n",
      "36                  0.2  Iris-setosa  \n",
      "37                  0.1  Iris-setosa  \n",
      "38                  0.2  Iris-setosa  \n",
      "39                  0.2  Iris-setosa  \n",
      "40                  0.3  Iris-setosa  \n",
      "41                  0.3  Iris-setosa  \n",
      "42                  0.2  Iris-setosa  \n",
      "43                  0.6  Iris-setosa  \n",
      "44                  0.4  Iris-setosa  \n",
      "45                  0.3  Iris-setosa  \n",
      "46                  0.2  Iris-setosa  \n",
      "47                  0.2  Iris-setosa  \n",
      "48                  0.2  Iris-setosa  \n",
      "49                  0.2  Iris-setosa  \n"
     ]
    }
   ],
   "source": [
    "print(dataframe.loc[dataframe[\"Class\"]==\"Iris-setosa\"]) # used the loc method to print\n",
    "print(dataframe.loc[(dataframe['Sepal Length (in cm)']>5.1)][[\"Petal length (in cm)\",\"Petal width (in cm)\"]])"
   ]
  },
  {
   "cell_type": "code",
   "execution_count": null,
   "metadata": {},
   "outputs": [],
   "source": [
    "### Multiply Sepal Length and width and store it under the column name \"SepalExtra\" in the same Iris dataframe"
   ]
  },
  {
   "cell_type": "code",
   "execution_count": 142,
   "metadata": {},
   "outputs": [
    {
     "name": "stdout",
     "output_type": "stream",
     "text": [
      "   Sepal Length (in cm)  Sepal Width in (cm)  Petal length (in cm)  \\\n",
      "0                   5.1                  3.5                   1.4   \n",
      "1                   4.9                  3.0                   1.4   \n",
      "2                   4.7                  3.2                   1.3   \n",
      "3                   4.6                  3.1                   1.5   \n",
      "4                   5.0                  3.6                   1.4   \n",
      "\n",
      "   Petal width (in cm)        Class  SepalExtra  \n",
      "0                  0.2  Iris-setosa       17.85  \n",
      "1                  0.2  Iris-setosa       14.70  \n",
      "2                  0.2  Iris-setosa       15.04  \n",
      "3                  0.2  Iris-setosa       14.26  \n",
      "4                  0.2  Iris-setosa       18.00  \n"
     ]
    }
   ],
   "source": [
    "#print(dataframe.columns)\n",
    "dataframe['SepalExtra']=dataframe['Sepal Length (in cm)']*dataframe['Sepal Width in (cm)']\n",
    "print(dataframe.head())"
   ]
  },
  {
   "cell_type": "code",
   "execution_count": 143,
   "metadata": {},
   "outputs": [
    {
     "name": "stdout",
     "output_type": "stream",
     "text": [
      "   Sepal Length (in cm)  Sepal Width in (cm)  Petal length (in cm)  \\\n",
      "0                   5.1                  3.5                   1.4   \n",
      "1                   4.9                  3.0                   1.4   \n",
      "2                   4.7                  3.2                   1.3   \n",
      "3                   4.6                  3.1                   1.5   \n",
      "4                   5.0                  3.6                   1.4   \n",
      "\n",
      "   Petal width (in cm)        Class  SepalExtra  SepalExtra1  \n",
      "0                  0.2  Iris-setosa       17.85        17.85  \n",
      "1                  0.2  Iris-setosa       14.70        14.70  \n",
      "2                  0.2  Iris-setosa       15.04        15.04  \n",
      "3                  0.2  Iris-setosa       14.26        14.26  \n",
      "4                  0.2  Iris-setosa       18.00        18.00  \n"
     ]
    }
   ],
   "source": [
    "dataframe['SepalExtra1']=dataframe.apply(lambda row: row['Sepal Length (in cm)']*row['Sepal Width in (cm)'],axis=1)\n",
    "print(dataframe.head())"
   ]
  },
  {
   "cell_type": "markdown",
   "metadata": {},
   "source": [
    "### Find out the mean and variance for each column but for class column "
   ]
  },
  {
   "cell_type": "code",
   "execution_count": 105,
   "metadata": {},
   "outputs": [
    {
     "name": "stdout",
     "output_type": "stream",
     "text": [
      "       Sepal Length (in cm)  Sepal Width in (cm)  Petal length (in cm)  \\\n",
      "count            150.000000           150.000000            150.000000   \n",
      "mean               5.843333             3.054000              3.758667   \n",
      "std                0.828066             0.433594              1.764420   \n",
      "min                4.300000             2.000000              1.000000   \n",
      "25%                5.100000             2.800000              1.600000   \n",
      "50%                5.800000             3.000000              4.350000   \n",
      "75%                6.400000             3.300000              5.100000   \n",
      "max                7.900000             4.400000              6.900000   \n",
      "\n",
      "       Petal width (in cm)  SepalExtra  SepalExtra1  \n",
      "count           150.000000  150.000000   150.000000  \n",
      "mean              1.198667   17.806533    17.806533  \n",
      "std               0.763161    3.368693     3.368693  \n",
      "min               0.100000   10.000000    10.000000  \n",
      "25%               0.300000   15.645000    15.645000  \n",
      "50%               1.300000   17.660000    17.660000  \n",
      "75%               1.800000   20.325000    20.325000  \n",
      "max               2.500000   30.020000    30.020000  \n"
     ]
    }
   ],
   "source": [
    "print(dataframe.describe())# used the standard method to find the mean and variance"
   ]
  },
  {
   "cell_type": "markdown",
   "metadata": {},
   "source": [
    "### Write a function that accepts two numbers as input and prints them - Pass the Sepal length and sepal width of 5th row and print the output"
   ]
  },
  {
   "cell_type": "code",
   "execution_count": 118,
   "metadata": {},
   "outputs": [
    {
     "name": "stdout",
     "output_type": "stream",
     "text": [
      "5.0 , 3.6\n",
      "(5.0, 3.6)\n"
     ]
    }
   ],
   "source": [
    "def print_two(var1, var2):\n",
    "     print(var1,\",\",var2)\n",
    "print_two(dataframe.iloc[4,0],dataframe.iloc[4,1])\n",
    "f =lambda x,y : (x, y)\n",
    "print(f(dataframe.iloc[4,0],dataframe.iloc[4,1]))"
   ]
  },
  {
   "cell_type": "markdown",
   "metadata": {},
   "source": [
    "### Find the range of all the columns in the dataset\n",
    "\n",
    "*Range = Max value - Min value (in the column)*"
   ]
  },
  {
   "cell_type": "code",
   "execution_count": 131,
   "metadata": {},
   "outputs": [
    {
     "name": "stdout",
     "output_type": "stream",
     "text": [
      "Sepal Length (in cm)    3.6\n",
      "Sepal Width in (cm)     2.4\n",
      "dtype: float64\n"
     ]
    }
   ],
   "source": [
    "#dataframe.max()\n",
    "print(dataframe[['Sepal Length (in cm)','Sepal Width in (cm)']].max()-dataframe[['Sepal Length (in cm)','Sepal Width in (cm)']].min())"
   ]
  },
  {
   "cell_type": "markdown",
   "metadata": {},
   "source": [
    "### Sort the entire dataset according to the column Petal width"
   ]
  },
  {
   "cell_type": "code",
   "execution_count": 135,
   "metadata": {},
   "outputs": [
    {
     "data": {
      "text/html": [
       "<div>\n",
       "<style scoped>\n",
       "    .dataframe tbody tr th:only-of-type {\n",
       "        vertical-align: middle;\n",
       "    }\n",
       "\n",
       "    .dataframe tbody tr th {\n",
       "        vertical-align: top;\n",
       "    }\n",
       "\n",
       "    .dataframe thead th {\n",
       "        text-align: right;\n",
       "    }\n",
       "</style>\n",
       "<table border=\"1\" class=\"dataframe\">\n",
       "  <thead>\n",
       "    <tr style=\"text-align: right;\">\n",
       "      <th></th>\n",
       "      <th>Sepal Length (in cm)</th>\n",
       "      <th>Sepal Width in (cm)</th>\n",
       "      <th>Petal length (in cm)</th>\n",
       "      <th>Petal width (in cm)</th>\n",
       "      <th>Class</th>\n",
       "      <th>SepalExtra</th>\n",
       "      <th>SepalExtra1</th>\n",
       "    </tr>\n",
       "  </thead>\n",
       "  <tbody>\n",
       "    <tr>\n",
       "      <td>32</td>\n",
       "      <td>5.2</td>\n",
       "      <td>4.1</td>\n",
       "      <td>1.5</td>\n",
       "      <td>0.1</td>\n",
       "      <td>Iris-setosa</td>\n",
       "      <td>21.32</td>\n",
       "      <td>21.32</td>\n",
       "    </tr>\n",
       "    <tr>\n",
       "      <td>13</td>\n",
       "      <td>4.3</td>\n",
       "      <td>3.0</td>\n",
       "      <td>1.1</td>\n",
       "      <td>0.1</td>\n",
       "      <td>Iris-setosa</td>\n",
       "      <td>12.90</td>\n",
       "      <td>12.90</td>\n",
       "    </tr>\n",
       "    <tr>\n",
       "      <td>37</td>\n",
       "      <td>4.9</td>\n",
       "      <td>3.1</td>\n",
       "      <td>1.5</td>\n",
       "      <td>0.1</td>\n",
       "      <td>Iris-setosa</td>\n",
       "      <td>15.19</td>\n",
       "      <td>15.19</td>\n",
       "    </tr>\n",
       "    <tr>\n",
       "      <td>9</td>\n",
       "      <td>4.9</td>\n",
       "      <td>3.1</td>\n",
       "      <td>1.5</td>\n",
       "      <td>0.1</td>\n",
       "      <td>Iris-setosa</td>\n",
       "      <td>15.19</td>\n",
       "      <td>15.19</td>\n",
       "    </tr>\n",
       "    <tr>\n",
       "      <td>12</td>\n",
       "      <td>4.8</td>\n",
       "      <td>3.0</td>\n",
       "      <td>1.4</td>\n",
       "      <td>0.1</td>\n",
       "      <td>Iris-setosa</td>\n",
       "      <td>14.40</td>\n",
       "      <td>14.40</td>\n",
       "    </tr>\n",
       "    <tr>\n",
       "      <td>...</td>\n",
       "      <td>...</td>\n",
       "      <td>...</td>\n",
       "      <td>...</td>\n",
       "      <td>...</td>\n",
       "      <td>...</td>\n",
       "      <td>...</td>\n",
       "      <td>...</td>\n",
       "    </tr>\n",
       "    <tr>\n",
       "      <td>140</td>\n",
       "      <td>6.7</td>\n",
       "      <td>3.1</td>\n",
       "      <td>5.6</td>\n",
       "      <td>2.4</td>\n",
       "      <td>Iris-virginica</td>\n",
       "      <td>20.77</td>\n",
       "      <td>20.77</td>\n",
       "    </tr>\n",
       "    <tr>\n",
       "      <td>114</td>\n",
       "      <td>5.8</td>\n",
       "      <td>2.8</td>\n",
       "      <td>5.1</td>\n",
       "      <td>2.4</td>\n",
       "      <td>Iris-virginica</td>\n",
       "      <td>16.24</td>\n",
       "      <td>16.24</td>\n",
       "    </tr>\n",
       "    <tr>\n",
       "      <td>100</td>\n",
       "      <td>6.3</td>\n",
       "      <td>3.3</td>\n",
       "      <td>6.0</td>\n",
       "      <td>2.5</td>\n",
       "      <td>Iris-virginica</td>\n",
       "      <td>20.79</td>\n",
       "      <td>20.79</td>\n",
       "    </tr>\n",
       "    <tr>\n",
       "      <td>144</td>\n",
       "      <td>6.7</td>\n",
       "      <td>3.3</td>\n",
       "      <td>5.7</td>\n",
       "      <td>2.5</td>\n",
       "      <td>Iris-virginica</td>\n",
       "      <td>22.11</td>\n",
       "      <td>22.11</td>\n",
       "    </tr>\n",
       "    <tr>\n",
       "      <td>109</td>\n",
       "      <td>7.2</td>\n",
       "      <td>3.6</td>\n",
       "      <td>6.1</td>\n",
       "      <td>2.5</td>\n",
       "      <td>Iris-virginica</td>\n",
       "      <td>25.92</td>\n",
       "      <td>25.92</td>\n",
       "    </tr>\n",
       "  </tbody>\n",
       "</table>\n",
       "<p>150 rows × 7 columns</p>\n",
       "</div>"
      ],
      "text/plain": [
       "     Sepal Length (in cm)  Sepal Width in (cm)  Petal length (in cm)  \\\n",
       "32                    5.2                  4.1                   1.5   \n",
       "13                    4.3                  3.0                   1.1   \n",
       "37                    4.9                  3.1                   1.5   \n",
       "9                     4.9                  3.1                   1.5   \n",
       "12                    4.8                  3.0                   1.4   \n",
       "..                    ...                  ...                   ...   \n",
       "140                   6.7                  3.1                   5.6   \n",
       "114                   5.8                  2.8                   5.1   \n",
       "100                   6.3                  3.3                   6.0   \n",
       "144                   6.7                  3.3                   5.7   \n",
       "109                   7.2                  3.6                   6.1   \n",
       "\n",
       "     Petal width (in cm)           Class  SepalExtra  SepalExtra1  \n",
       "32                   0.1     Iris-setosa       21.32        21.32  \n",
       "13                   0.1     Iris-setosa       12.90        12.90  \n",
       "37                   0.1     Iris-setosa       15.19        15.19  \n",
       "9                    0.1     Iris-setosa       15.19        15.19  \n",
       "12                   0.1     Iris-setosa       14.40        14.40  \n",
       "..                   ...             ...         ...          ...  \n",
       "140                  2.4  Iris-virginica       20.77        20.77  \n",
       "114                  2.4  Iris-virginica       16.24        16.24  \n",
       "100                  2.5  Iris-virginica       20.79        20.79  \n",
       "144                  2.5  Iris-virginica       22.11        22.11  \n",
       "109                  2.5  Iris-virginica       25.92        25.92  \n",
       "\n",
       "[150 rows x 7 columns]"
      ]
     },
     "execution_count": 135,
     "metadata": {},
     "output_type": "execute_result"
    }
   ],
   "source": [
    "dataframe.sort_values(by=['Petal width (in cm)'],ascending=[True]) #sorted the entire data set based on column petal"
   ]
  },
  {
   "cell_type": "markdown",
   "metadata": {},
   "source": [
    "### Remove the new column \"SepalExtra\" from the dataframe"
   ]
  },
  {
   "cell_type": "code",
   "execution_count": 145,
   "metadata": {},
   "outputs": [
    {
     "name": "stdout",
     "output_type": "stream",
     "text": [
      "     Sepal Length (in cm)  Sepal Width in (cm)  Petal length (in cm)  \\\n",
      "0                     5.1                  3.5                   1.4   \n",
      "1                     4.9                  3.0                   1.4   \n",
      "2                     4.7                  3.2                   1.3   \n",
      "3                     4.6                  3.1                   1.5   \n",
      "4                     5.0                  3.6                   1.4   \n",
      "..                    ...                  ...                   ...   \n",
      "145                   6.7                  3.0                   5.2   \n",
      "146                   6.3                  2.5                   5.0   \n",
      "147                   6.5                  3.0                   5.2   \n",
      "148                   6.2                  3.4                   5.4   \n",
      "149                   5.9                  3.0                   5.1   \n",
      "\n",
      "     Petal width (in cm)           Class  SepalExtra  \n",
      "0                    0.2     Iris-setosa       17.85  \n",
      "1                    0.2     Iris-setosa       14.70  \n",
      "2                    0.2     Iris-setosa       15.04  \n",
      "3                    0.2     Iris-setosa       14.26  \n",
      "4                    0.2     Iris-setosa       18.00  \n",
      "..                   ...             ...         ...  \n",
      "145                  2.3  Iris-virginica       20.10  \n",
      "146                  1.9  Iris-virginica       15.75  \n",
      "147                  2.0  Iris-virginica       19.50  \n",
      "148                  2.3  Iris-virginica       21.08  \n",
      "149                  1.8  Iris-virginica       17.70  \n",
      "\n",
      "[150 rows x 6 columns]\n"
     ]
    }
   ],
   "source": [
    "dataframe.drop('SepalExtra',axis=1)\n",
    "#dataframe.drop(columns='SepalExtra1', axis=1, inplace=True)\n",
    "print(dataframe)"
   ]
  },
  {
   "cell_type": "markdown",
   "metadata": {},
   "source": [
    "### Take only the top 10 rows of the dataset with only first 3 columns and store it in a dataframe named \"IrisSubset\" "
   ]
  },
  {
   "cell_type": "code",
   "execution_count": 149,
   "metadata": {},
   "outputs": [],
   "source": [
    "IrisSubset=dataframe.iloc[0:10,0:3]# used iloc to create the subset"
   ]
  },
  {
   "cell_type": "code",
   "execution_count": 150,
   "metadata": {},
   "outputs": [
    {
     "name": "stdout",
     "output_type": "stream",
     "text": [
      "   Sepal Length (in cm)  Sepal Width in (cm)  Petal length (in cm)\n",
      "0                   5.1                  3.5                   1.4\n",
      "1                   4.9                  3.0                   1.4\n",
      "2                   4.7                  3.2                   1.3\n",
      "3                   4.6                  3.1                   1.5\n",
      "4                   5.0                  3.6                   1.4\n",
      "5                   5.4                  3.9                   1.7\n",
      "6                   4.6                  3.4                   1.4\n",
      "7                   5.0                  3.4                   1.5\n",
      "8                   4.4                  2.9                   1.4\n",
      "9                   4.9                  3.1                   1.5\n"
     ]
    }
   ],
   "source": [
    "print(IrisSubset)"
   ]
  },
  {
   "cell_type": "markdown",
   "metadata": {},
   "source": [
    "# Part-2"
   ]
  },
  {
   "cell_type": "markdown",
   "metadata": {},
   "source": [
    "## The dataset HR contains information collected from the survey floated by a HR within the company.\n",
    "\n",
    "\n",
    "As a part of this lab, you are expected to answer the below questions"
   ]
  },
  {
   "cell_type": "markdown",
   "metadata": {},
   "source": [
    "### Import numpy and Pandas "
   ]
  },
  {
   "cell_type": "code",
   "execution_count": 203,
   "metadata": {},
   "outputs": [],
   "source": [
    "import numpy as np\n",
    "import pandas as pd # declaration of numpy and pandas"
   ]
  },
  {
   "cell_type": "markdown",
   "metadata": {},
   "source": [
    "### Import the dataset (Note: The dataset is in .txt format) - Make sure to use delimiters"
   ]
  },
  {
   "cell_type": "code",
   "execution_count": 162,
   "metadata": {},
   "outputs": [],
   "source": [
    "dataset=pd.read_csv(\"D:/Python/lab1/HR.txt\",delimiter=\"\\t\",lineterminator='\\n') # read the file"
   ]
  },
  {
   "cell_type": "markdown",
   "metadata": {},
   "source": [
    "### Print the no of rows and columns in the dataset "
   ]
  },
  {
   "cell_type": "code",
   "execution_count": 164,
   "metadata": {},
   "outputs": [
    {
     "name": "stdout",
     "output_type": "stream",
     "text": [
      "(1470, 35)\n",
      "2\n",
      "Index(['Individual ', 'Attrition', 'Age', 'BusinessTravel', 'DailyRate',\n",
      "       'Department', 'DistanceFromHome', 'Education', 'EducationField',\n",
      "       'EmployeeCount', 'EmployeeNumber', 'EnvironmentSatisfaction', 'Gender',\n",
      "       'HourlyRate', 'JobInvolvement', 'JobLevel', 'JobRole',\n",
      "       'JobSatisfaction', 'MaritalStatus', 'MonthlyIncome', 'MonthlyRate',\n",
      "       'NumCompaniesWorked', 'OverTime', 'PercentSalaryHike',\n",
      "       'PerformanceRating', 'RelationshipSatisfaction', 'StandardHours',\n",
      "       'StockOptionLevel', 'TotalWorkingYears', 'TrainingTimesLastYear',\n",
      "       'WorkLifeBalance', 'YearsAtCompany', 'YearsInCurrentRole',\n",
      "       'YearsSinceLastPromotion', 'YearsWithCurrManager\\r'],\n",
      "      dtype='object')\n",
      "  Individual  Attrition  Age  BusinessTravel  DailyRate  Department  \\\n",
      "0        Ind1       Yes   41               1       1102           1   \n",
      "1        Ind2        No   49               2        279           2   \n",
      "2        Ind3       Yes   37               1       1373           2   \n",
      "3        Ind4        No   33               2       1392           2   \n",
      "4        Ind5        No   27               1        591           2   \n",
      "\n",
      "   DistanceFromHome  Education  EducationField  EmployeeCount  ...  \\\n",
      "0                 1          2               1              1  ...   \n",
      "1                 8          1               1              1  ...   \n",
      "2                 2          2               6              1  ...   \n",
      "3                 3          4               1              1  ...   \n",
      "4                 2          1               2              1  ...   \n",
      "\n",
      "   RelationshipSatisfaction  StandardHours  StockOptionLevel  \\\n",
      "0                         1             80                 0   \n",
      "1                         4             80                 1   \n",
      "2                         2             80                 0   \n",
      "3                         3             80                 0   \n",
      "4                         4             80                 1   \n",
      "\n",
      "   TotalWorkingYears  TrainingTimesLastYear  WorkLifeBalance  YearsAtCompany  \\\n",
      "0                  8                      0                1               6   \n",
      "1                 10                      3                3              10   \n",
      "2                  7                      3                3               0   \n",
      "3                  8                      3                3               8   \n",
      "4                  6                      3                3               2   \n",
      "\n",
      "   YearsInCurrentRole  YearsSinceLastPromotion  YearsWithCurrManager\\r  \n",
      "0                   4                        0                       5  \n",
      "1                   7                        1                       7  \n",
      "2                   0                        0                       0  \n",
      "3                   7                        3                       0  \n",
      "4                   2                        2                       2  \n",
      "\n",
      "[5 rows x 35 columns]\n"
     ]
    }
   ],
   "source": [
    "#print the data set shape\n",
    "print(dataset.shape)\n",
    "print(dataset.ndim)\n",
    "print(dataset.head())"
   ]
  },
  {
   "cell_type": "code",
   "execution_count": 169,
   "metadata": {},
   "outputs": [
    {
     "name": "stdout",
     "output_type": "stream",
     "text": [
      "51450\n",
      "Index(['Individual ', 'Attrition', 'Age', 'BusinessTravel', 'DailyRate',\n",
      "       'Department', 'DistanceFromHome', 'Education', 'EducationField',\n",
      "       'EmployeeCount', 'EmployeeNumber', 'EnvironmentSatisfaction', 'Gender',\n",
      "       'HourlyRate', 'JobInvolvement', 'JobLevel', 'JobRole',\n",
      "       'JobSatisfaction', 'MaritalStatus', 'MonthlyIncome', 'MonthlyRate',\n",
      "       'NumCompaniesWorked', 'OverTime', 'PercentSalaryHike',\n",
      "       'PerformanceRating', 'RelationshipSatisfaction', 'StandardHours',\n",
      "       'StockOptionLevel', 'TotalWorkingYears', 'TrainingTimesLastYear',\n",
      "       'WorkLifeBalance', 'YearsAtCompany', 'YearsInCurrentRole',\n",
      "       'YearsSinceLastPromotion', 'YearsWithCurrManager\\r'],\n",
      "      dtype='object')\n"
     ]
    }
   ],
   "source": [
    "print(dataset.size)\n",
    "print(dataset.columns)"
   ]
  },
  {
   "cell_type": "markdown",
   "metadata": {},
   "source": [
    "### Find out the type of each and every column in the dataset "
   ]
  },
  {
   "cell_type": "code",
   "execution_count": 170,
   "metadata": {},
   "outputs": [
    {
     "name": "stdout",
     "output_type": "stream",
     "text": [
      "<class 'pandas.core.frame.DataFrame'>\n",
      "RangeIndex: 1470 entries, 0 to 1469\n",
      "Data columns (total 35 columns):\n",
      "Individual                  1470 non-null object\n",
      "Attrition                   1470 non-null object\n",
      "Age                         1470 non-null int64\n",
      "BusinessTravel              1470 non-null int64\n",
      "DailyRate                   1470 non-null int64\n",
      "Department                  1470 non-null int64\n",
      "DistanceFromHome            1470 non-null int64\n",
      "Education                   1470 non-null int64\n",
      "EducationField              1470 non-null int64\n",
      "EmployeeCount               1470 non-null int64\n",
      "EmployeeNumber              1470 non-null int64\n",
      "EnvironmentSatisfaction     1470 non-null int64\n",
      "Gender                      1470 non-null int64\n",
      "HourlyRate                  1470 non-null int64\n",
      "JobInvolvement              1470 non-null int64\n",
      "JobLevel                    1470 non-null int64\n",
      "JobRole                     1470 non-null int64\n",
      "JobSatisfaction             1470 non-null int64\n",
      "MaritalStatus               1470 non-null int64\n",
      "MonthlyIncome               1470 non-null int64\n",
      "MonthlyRate                 1470 non-null int64\n",
      "NumCompaniesWorked          1470 non-null int64\n",
      "OverTime                    1470 non-null int64\n",
      "PercentSalaryHike           1470 non-null int64\n",
      "PerformanceRating           1470 non-null int64\n",
      "RelationshipSatisfaction    1470 non-null int64\n",
      "StandardHours               1470 non-null int64\n",
      "StockOptionLevel            1470 non-null int64\n",
      "TotalWorkingYears           1470 non-null int64\n",
      "TrainingTimesLastYear       1470 non-null int64\n",
      "WorkLifeBalance             1470 non-null int64\n",
      "YearsAtCompany              1470 non-null int64\n",
      "YearsInCurrentRole          1470 non-null int64\n",
      "YearsSinceLastPromotion     1470 non-null int64\n",
      "YearsWithCurrManager\r",
      "       1470 non-null int64\n",
      "dtypes: int64(33), object(2)\n",
      "memory usage: 402.1+ KB\n",
      "None\n"
     ]
    }
   ],
   "source": [
    "print(dataset.info())"
   ]
  },
  {
   "cell_type": "code",
   "execution_count": 171,
   "metadata": {},
   "outputs": [
    {
     "name": "stdout",
     "output_type": "stream",
     "text": [
      "               Age  BusinessTravel    DailyRate   Department  \\\n",
      "count  1470.000000     1470.000000  1470.000000  1470.000000   \n",
      "mean     36.923810        1.392517   802.485714     1.739456   \n",
      "std       9.135373        0.665455   403.509100     0.527792   \n",
      "min      18.000000        1.000000   102.000000     1.000000   \n",
      "25%      30.000000        1.000000   465.000000     1.000000   \n",
      "50%      36.000000        1.000000   802.000000     2.000000   \n",
      "75%      43.000000        2.000000  1157.000000     2.000000   \n",
      "max      60.000000        3.000000  1499.000000     3.000000   \n",
      "\n",
      "       DistanceFromHome    Education  EducationField  EmployeeCount  \\\n",
      "count       1470.000000  1470.000000     1470.000000         1470.0   \n",
      "mean           9.192517     2.912925        2.153741            1.0   \n",
      "std            8.106864     1.024165        1.383865            0.0   \n",
      "min            1.000000     1.000000        1.000000            1.0   \n",
      "25%            2.000000     2.000000        1.000000            1.0   \n",
      "50%            7.000000     3.000000        2.000000            1.0   \n",
      "75%           14.000000     4.000000        3.000000            1.0   \n",
      "max           29.000000     5.000000        6.000000            1.0   \n",
      "\n",
      "       EmployeeNumber  EnvironmentSatisfaction  ...  RelationshipSatisfaction  \\\n",
      "count     1470.000000              1470.000000  ...               1470.000000   \n",
      "mean      1024.865306                 2.721769  ...                  2.712245   \n",
      "std        602.024335                 1.093082  ...                  1.081209   \n",
      "min          1.000000                 1.000000  ...                  1.000000   \n",
      "25%        491.250000                 2.000000  ...                  2.000000   \n",
      "50%       1020.500000                 3.000000  ...                  3.000000   \n",
      "75%       1555.750000                 4.000000  ...                  4.000000   \n",
      "max       2068.000000                 4.000000  ...                  4.000000   \n",
      "\n",
      "       StandardHours  StockOptionLevel  TotalWorkingYears  \\\n",
      "count         1470.0       1470.000000        1470.000000   \n",
      "mean            80.0          0.793878          11.279592   \n",
      "std              0.0          0.852077           7.780782   \n",
      "min             80.0          0.000000           0.000000   \n",
      "25%             80.0          0.000000           6.000000   \n",
      "50%             80.0          1.000000          10.000000   \n",
      "75%             80.0          1.000000          15.000000   \n",
      "max             80.0          3.000000          40.000000   \n",
      "\n",
      "       TrainingTimesLastYear  WorkLifeBalance  YearsAtCompany  \\\n",
      "count            1470.000000      1470.000000     1470.000000   \n",
      "mean                2.799320         2.761224        7.008163   \n",
      "std                 1.289271         0.706476        6.126525   \n",
      "min                 0.000000         1.000000        0.000000   \n",
      "25%                 2.000000         2.000000        3.000000   \n",
      "50%                 3.000000         3.000000        5.000000   \n",
      "75%                 3.000000         3.000000        9.000000   \n",
      "max                 6.000000         4.000000       40.000000   \n",
      "\n",
      "       YearsInCurrentRole  YearsSinceLastPromotion  YearsWithCurrManager\\r  \n",
      "count         1470.000000              1470.000000             1470.000000  \n",
      "mean             4.229252                 2.187755                4.123129  \n",
      "std              3.623137                 3.222430                3.568136  \n",
      "min              0.000000                 0.000000                0.000000  \n",
      "25%              2.000000                 0.000000                2.000000  \n",
      "50%              3.000000                 1.000000                3.000000  \n",
      "75%              7.000000                 3.000000                7.000000  \n",
      "max             18.000000                15.000000               17.000000  \n",
      "\n",
      "[8 rows x 33 columns]\n"
     ]
    }
   ],
   "source": [
    "print(dataset.describe())"
   ]
  },
  {
   "cell_type": "markdown",
   "metadata": {},
   "source": [
    "### Print out all the rows from 3rd column to 10th columns  "
   ]
  },
  {
   "cell_type": "code",
   "execution_count": 180,
   "metadata": {},
   "outputs": [
    {
     "name": "stdout",
     "output_type": "stream",
     "text": [
      "      Age  BusinessTravel  DailyRate  Department  DistanceFromHome  Education  \\\n",
      "0      41               1       1102           1                 1          2   \n",
      "1      49               2        279           2                 8          1   \n",
      "2      37               1       1373           2                 2          2   \n",
      "3      33               2       1392           2                 3          4   \n",
      "4      27               1        591           2                 2          1   \n",
      "...   ...             ...        ...         ...               ...        ...   \n",
      "1465   36               2        884           2                23          2   \n",
      "1466   39               1        613           2                 6          1   \n",
      "1467   27               1        155           2                 4          3   \n",
      "1468   49               2       1023           1                 2          3   \n",
      "1469   34               1        628           2                 8          3   \n",
      "\n",
      "      EducationField  EmployeeCount  \n",
      "0                  1              1  \n",
      "1                  1              1  \n",
      "2                  6              1  \n",
      "3                  1              1  \n",
      "4                  2              1  \n",
      "...              ...            ...  \n",
      "1465               2              1  \n",
      "1466               2              1  \n",
      "1467               1              1  \n",
      "1468               2              1  \n",
      "1469               2              1  \n",
      "\n",
      "[1470 rows x 8 columns]\n"
     ]
    }
   ],
   "source": [
    "print(dataset.iloc[:,2:10]) # used the iloc to print all rows of column3 - column10"
   ]
  },
  {
   "cell_type": "markdown",
   "metadata": {},
   "source": [
    "### Find out the no of male & female employees in the company\n",
    "\n",
    "*Hint: Use can use a condition to find out the no of 1s and 0s in gender and sum it*"
   ]
  },
  {
   "cell_type": "code",
   "execution_count": 199,
   "metadata": {},
   "outputs": [
    {
     "name": "stdout",
     "output_type": "stream",
     "text": [
      "Male : 588\n"
     ]
    }
   ],
   "source": [
    "print(\"Male :\",dataset[(dataset['Gender']==2)]['Gender'].count())# Gender value =2 \n"
   ]
  },
  {
   "cell_type": "code",
   "execution_count": 198,
   "metadata": {},
   "outputs": [
    {
     "name": "stdout",
     "output_type": "stream",
     "text": [
      "FeMale : 882\n"
     ]
    }
   ],
   "source": [
    "print(\"FeMale :\",dataset[(dataset['Gender']==1)]['Gender'].count())# Gender value =1"
   ]
  },
  {
   "cell_type": "markdown",
   "metadata": {},
   "source": [
    "### Find out the IQR for the column - Age \n",
    "\n",
    "*Hint: IQR - Interquartile range = 75th percentile - 25th percentile* "
   ]
  },
  {
   "cell_type": "code",
   "execution_count": 208,
   "metadata": {},
   "outputs": [
    {
     "name": "stdout",
     "output_type": "stream",
     "text": [
      "count    1470.000000\n",
      "mean       36.923810\n",
      "std         9.135373\n",
      "min        18.000000\n",
      "25%        30.000000\n",
      "50%        36.000000\n",
      "75%        43.000000\n",
      "max        60.000000\n",
      "Name: Age, dtype: float64\n",
      " IQR = 13.0\n"
     ]
    }
   ],
   "source": [
    "print(dataset['Age'].describe())\n",
    "Q1=np.percentile(dataset['Age'], 25, interpolation = 'midpoint') \n",
    "Q3=np.percentile(dataset['Age'],75,interpolation='midpoint')\n",
    "print(' IQR =', Q3-Q1)"
   ]
  },
  {
   "cell_type": "markdown",
   "metadata": {},
   "source": [
    "### Find out the mean, median and variance for the column - DailyRate "
   ]
  },
  {
   "cell_type": "code",
   "execution_count": 224,
   "metadata": {},
   "outputs": [
    {
     "name": "stdout",
     "output_type": "stream",
     "text": [
      "Mean : 802\n",
      "Mean : 802.4857142857143\n",
      "Median  802.0\n",
      "Variance  162819.59373723628\n"
     ]
    }
   ],
   "source": [
    "#Print the mean median and variance\n",
    "print(\"Mean :\",round(dataset.loc[:]['DailyRate'].mean())) # used round method\n",
    "print(\"Mean :\" ,dataset['DailyRate'].mean())\n",
    "print(\"Median \",dataset['DailyRate'].median())\n",
    "print(\"Variance \",dataset['DailyRate'].var())"
   ]
  },
  {
   "cell_type": "markdown",
   "metadata": {},
   "source": [
    "### Plot the attrition column (Since it is a categorical variable, chose the plot accordingly)"
   ]
  },
  {
   "cell_type": "code",
   "execution_count": 297,
   "metadata": {},
   "outputs": [
    {
     "name": "stdout",
     "output_type": "stream",
     "text": [
      "36.4\n",
      "63.54285714285714\n"
     ]
    },
    {
     "data": {
      "text/plain": [
       "<seaborn.axisgrid.FacetGrid at 0x21d248030c8>"
      ]
     },
     "execution_count": 297,
     "metadata": {},
     "output_type": "execute_result"
    },
    {
     "data": {
      "image/png": "[encoded data removed]",
      "text/plain": [
       "<Figure size 432x288 with 1 Axes>"
      ]
     },
     "metadata": {},
     "output_type": "display_data"
    },
    {
     "data": {
      "image/png": "[encoded data removed]",
      "text/plain": [
       "<Figure size 720x360 with 1 Axes>"
      ]
     },
     "metadata": {},
     "output_type": "display_data"
    },
    {
     "data": {
      "image/png": "[encoded data removed]",
      "text/plain": [
       "<Figure size 720x360 with 1 Axes>"
      ]
     },
     "metadata": {},
     "output_type": "display_data"
    }
   ],
   "source": [
    "import seaborn as sns\n",
    "import matplotlib.pyplot as plt\n",
    "subset=dataset.iloc[0:100,:]\n",
    "sns.countplot(x='Attrition',data=subset)\n",
    "#sns.countplot(x='Attrition',hue='Gender',data=subset)\n",
    "print(subset[(subset['Attrition']=='Yes')]['Age'].mean())\n",
    "print(subset[(subset['Attrition']=='Yes')]['Age'].var())\n",
    "sns.catplot(x='Attrition', y='Age', data=subset, aspect=2)\n",
    "sns.catplot(x='Age', y='Attrition', data=subset, kind='box',aspect=2)\n",
    "#sns.barplot(dataset['Attrition'])\n"
   ]
  },
  {
   "cell_type": "code",
   "execution_count": 313,
   "metadata": {},
   "outputs": [
    {
     "name": "stderr",
     "output_type": "stream",
     "text": [
      "C:\\ProgramData\\Anaconda3\\lib\\site-packages\\ipykernel_launcher.py:1: SettingWithCopyWarning: \n",
      "A value is trying to be set on a copy of a slice from a DataFrame.\n",
      "Try using .loc[row_indexer,col_indexer] = value instead\n",
      "\n",
      "See the caveats in the documentation: http://pandas.pydata.org/pandas-docs/stable/user_guide/indexing.html#returning-a-view-versus-a-copy\n",
      "  \"\"\"Entry point for launching an IPython kernel.\n"
     ]
    },
    {
     "data": {
      "text/plain": [
       "<matplotlib.axes._subplots.AxesSubplot at 0x21d264bcc48>"
      ]
     },
     "execution_count": 313,
     "metadata": {},
     "output_type": "execute_result"
    },
    {
     "data": {
      "image/png": "[encoded data removed]",
      "text/plain": [
       "<Figure size 432x288 with 1 Axes>"
      ]
     },
     "metadata": {},
     "output_type": "display_data"
    }
   ],
   "source": [
    "subset['Gender1']=subset['Gender']\n",
    "subset.loc[(subset.Gender1==2,'Gender1')]='Male'\n",
    "subset.loc[(subset.Gender1==1,'Gender1')]='FeMale'\n",
    "sns.countplot(y='Attrition',hue='Gender1',data=subset)"
   ]
  },
  {
   "cell_type": "markdown",
   "metadata": {},
   "source": [
    "### Plot Total working years using matplotlib plot function"
   ]
  },
  {
   "cell_type": "code",
   "execution_count": 308,
   "metadata": {},
   "outputs": [
    {
     "data": {
      "image/png": "[encoded data removed]",
      "text/plain": [
       "<Figure size 432x288 with 1 Axes>"
      ]
     },
     "metadata": {},
     "output_type": "display_data"
    }
   ],
   "source": [
    "subset.plot(kind='scatter',x='JobSatisfaction',y='TotalWorkingYears',color='red')\n",
    "plt.show()"
   ]
  },
  {
   "cell_type": "code",
   "execution_count": 311,
   "metadata": {},
   "outputs": [
    {
     "data": {
      "image/png": "[encoded data removed]",
      "text/plain": [
       "<Figure size 432x288 with 1 Axes>"
      ]
     },
     "metadata": {},
     "output_type": "display_data"
    }
   ],
   "source": [
    "subset.plot(kind='scatter',y='YearsAtCompany',x='TotalWorkingYears',color='red')\n",
    "plt.show()"
   ]
  },
  {
   "cell_type": "code",
   "execution_count": null,
   "metadata": {},
   "outputs": [],
   "source": []
  }
 ],
 "metadata": {
  "kernelspec": {
   "display_name": "Python 3",
   "language": "python",
   "name": "python3"
  },
  "language_info": {
   "codemirror_mode": {
    "name": "ipython",
    "version": 3
   },
   "file_extension": ".py",
   "mimetype": "text/x-python",
   "name": "python",
   "nbconvert_exporter": "python",
   "pygments_lexer": "ipython3",
   "version": "3.7.4"
  }
 },
 "nbformat": 4,
 "nbformat_minor": 2
}
