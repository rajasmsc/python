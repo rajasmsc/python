{
 "cells": [
  {
   "cell_type": "code",
   "execution_count": 39,
   "metadata": {},
   "outputs": [],
   "source": [
    "#import the dataset and replace the \"-\" with zero\n",
    "import pandas as pd\n",
    "import numpy as np\n",
    "dataset=pd.read_csv(\"D:\\\\Python\\\\Project-1\\\\Laliga.csv\").replace('-',0)"
   ]
  },
  {
   "cell_type": "code",
   "execution_count": 2,
   "metadata": {},
   "outputs": [
    {
     "name": "stdout",
     "output_type": "stream",
     "text": [
      "             Pos    Seasons  BestPosition\n",
      "count  61.000000  61.000000     61.000000\n",
      "mean   31.000000  24.000000      7.081967\n",
      "std    17.752934  26.827225      5.276663\n",
      "min     1.000000   1.000000      1.000000\n",
      "25%    16.000000   4.000000      3.000000\n",
      "50%    31.000000  12.000000      6.000000\n",
      "75%    46.000000  38.000000     10.000000\n",
      "max    61.000000  86.000000     20.000000\n"
     ]
    }
   ],
   "source": [
    "print(dataset.describe())"
   ]
  },
  {
   "cell_type": "code",
   "execution_count": 5,
   "metadata": {},
   "outputs": [
    {
     "name": "stdout",
     "output_type": "stream",
     "text": [
      "<class 'pandas.core.frame.DataFrame'>\n",
      "RangeIndex: 61 entries, 0 to 60\n",
      "Data columns (total 20 columns):\n",
      "Pos              61 non-null int64\n",
      "Team             61 non-null object\n",
      "Seasons          61 non-null int64\n",
      "Points           61 non-null object\n",
      "GamesPlayed      61 non-null object\n",
      "GamesWon         61 non-null object\n",
      "GamesDrawn       61 non-null object\n",
      "GamesLost        61 non-null object\n",
      "GoalsFor         61 non-null object\n",
      "GoalsAgainst     61 non-null object\n",
      "Champion         61 non-null object\n",
      "Runner-up        61 non-null object\n",
      "Third            61 non-null object\n",
      "Fourth           61 non-null object\n",
      "Fifth            61 non-null object\n",
      "Sixth            61 non-null object\n",
      "T                61 non-null object\n",
      "Debut            61 non-null object\n",
      "Since/LastApp    61 non-null object\n",
      "BestPosition     61 non-null int64\n",
      "dtypes: int64(3), object(17)\n",
      "memory usage: 9.7+ KB\n",
      "None\n"
     ]
    }
   ],
   "source": [
    "print(dataset.info()) # verify the dataset columns-nullable records"
   ]
  },
  {
   "cell_type": "code",
   "execution_count": 83,
   "metadata": {},
   "outputs": [],
   "source": [
    "#Print all the teams which have started playing between 1930-1980.\n",
    "dataset['Debut1']=dataset['Debut'].str.split(\"-\",expand=True)[0].astype('int') # split the year 1939-40 "
   ]
  },
  {
   "cell_type": "code",
   "execution_count": 84,
   "metadata": {},
   "outputs": [
    {
     "name": "stdout",
     "output_type": "stream",
     "text": [
      "      Debut  Debut1\n",
      "0      1929    1929\n",
      "1      1929    1929\n",
      "2      1929    1929\n",
      "3   1931-32    1931\n",
      "4      1929    1929\n",
      "..      ...     ...\n",
      "56  2009-10    2009\n",
      "57  1956-57    1956\n",
      "58  1951-52    1951\n",
      "59  1955-56    1955\n",
      "60  2017-18    2017\n",
      "\n",
      "[61 rows x 2 columns]\n"
     ]
    }
   ],
   "source": [
    "print(dataset.loc[:,['Debut','Debut1']])"
   ]
  },
  {
   "cell_type": "code",
   "execution_count": 85,
   "metadata": {},
   "outputs": [
    {
     "name": "stdout",
     "output_type": "stream",
     "text": [
      "    Pos                 Team  Seasons  Points GamesPlayed GamesWon GamesDrawn  \\\n",
      "8     9             Zaragoza       58  2109.0        1986      698        522   \n",
      "10   11  Deportivo La Coruna       45  1814.0        1530      563        392   \n",
      "11   12           Celta Vigo       51  1789.0        1698      586        389   \n",
      "12   13           Valladolid       42  1471.0        1466      463        384   \n",
      "14   15       Sporting Gijon       43  1389.0        1458      471        358   \n",
      "16   17               Malaga       36  1314.0        1255      390        330   \n",
      "18   19             Mallorca       27  1148.0         988      333        256   \n",
      "19   20           Las Palmas       33  1020.0        1096      367        242   \n",
      "21   22              Granada       23   667.0         742      218        175   \n",
      "22   23       Rayo Vallecano       17   662.0         652      189        148   \n",
      "23   24                Elche       21   606.0         678      203        180   \n",
      "26   27             Tenerife       13   510.0         494      155        128   \n",
      "27   28               Murcia       18   445.0         586      145        143   \n",
      "29   30              Levante       11   416.0         402      113         95   \n",
      "30   31            Salamanca       12   375.0         423      123        102   \n",
      "31   32             Sabadell       14   353.0         426      129         95   \n",
      "32   33                Cadiz       12   343.0         448      104        127   \n",
      "34   35            Castellon       11   285.0         334      103         79   \n",
      "37   38              Cordoba        9   230.0         282       82         63   \n",
      "39   40           Recreativo        5   188.0         186       50         46   \n",
      "40   41            Burgos CF        6   168.0         204       59         50   \n",
      "41   42           Pontevedra        6   150.0         180       53         44   \n",
      "46   47            Gimnastic        4    91.0         116       34         16   \n",
      "49   50             Alcoyano        4    76.0         108       30         16   \n",
      "50   51                 Jaen        3    71.0          90       29         13   \n",
      "52   53           AD Almeria        2    52.0          68       17         18   \n",
      "54   55               Lleida        2    40.0          68       13         14   \n",
      "57   58               Condal        1    22.0          30        7          8   \n",
      "58   59      Atletico Tetuan        1    19.0          30        7          5   \n",
      "59   60     Cultural Leonesa        1    14.0          30        5          4   \n",
      "\n",
      "   GamesLost  GoalsFor  GoalsAgainst  ... Fifth Sixth   T    Debut  \\\n",
      "8        766    2683.0        2847.0  ...     4     4  18  1939-40   \n",
      "10       575    2052.0        2188.0  ...     0     1  12  1941-42   \n",
      "11       723    2278.0        2624.0  ...     4     5  11  1939-40   \n",
      "12       619    1767.0        2180.0  ...     1     1   3  1948-49   \n",
      "14       629    1753.0        2152.0  ...     2     1   7  1944-45   \n",
      "16       535    1421.0        1763.0  ...     0     1   2  1949-50   \n",
      "18       399    1182.0        1371.0  ...     2     1   5  1960-61   \n",
      "19       487    1347.0        1746.0  ...     1     1   5  1951-52   \n",
      "21       349     819.0        1157.0  ...     0     2   2  1941-42   \n",
      "22       305     760.0        1088.0  ...     0     0   0  1977-78   \n",
      "23       295     750.0        1022.0  ...     1     1   2  1959-60   \n",
      "26       211     619.0         744.0  ...     2     0   2  1961-62   \n",
      "27       298     607.0         992.0  ...     0     0   0  1940-41   \n",
      "29       194     430.0         632.0  ...     0     1   1  1963-64   \n",
      "30       198     422.0         581.0  ...     0     0   0  1974-75   \n",
      "31       202     492.0         720.0  ...     1     0   2  1943-44   \n",
      "32       217     393.0         662.0  ...     0     0   0  1977-78   \n",
      "34       152     419.0         588.0  ...     2     0   3  1941-42   \n",
      "37       137     285.0         430.0  ...     1     0   1  1962-63   \n",
      "39        90     202.0         296.0  ...     0     0   0  1978-79   \n",
      "40        95     216.0         310.0  ...     0     0   0  1971-72   \n",
      "41        83     165.0         221.0  ...     0     0   0  1963-64   \n",
      "46        66     181.0         295.0  ...     0     0   0  1947-48   \n",
      "49        62     145.0         252.0  ...     0     0   0  1945-46   \n",
      "50        48     121.0         183.0  ...     0     0   0  1953-54   \n",
      "52        33      71.0         116.0  ...     0     0   0  1979-80   \n",
      "54        41      70.0         182.0  ...     0     0   0  1950-51   \n",
      "57        15      37.0          57.0  ...     0     0   0  1956-57   \n",
      "58        18      51.0          85.0  ...     0     0   0  1951-52   \n",
      "59        21      34.0          65.0  ...     0     0   0  1955-56   \n",
      "\n",
      "   Since/LastApp BestPosition Debut1 Goal_diff_count Goal_diff_count1  \\\n",
      "8        2012-13            2   1939          -164.0           -164.0   \n",
      "10       2014-15            1   1941          -136.0           -136.0   \n",
      "11       2012-13            4   1939          -346.0           -346.0   \n",
      "12       2013-14            4   1948          -413.0           -413.0   \n",
      "14       2015-16            2   1944          -399.0           -399.0   \n",
      "16       2008-09            4   1949          -342.0           -342.0   \n",
      "18       2012-13            3   1960          -189.0           -189.0   \n",
      "19       2015-16            2   1951          -399.0           -399.0   \n",
      "21       2016-17            6   1941          -338.0           -338.0   \n",
      "22       2015-16            8   1977          -328.0           -328.0   \n",
      "23       2014-15            5   1959          -272.0           -272.0   \n",
      "26       2009-10            5   1961          -125.0           -125.0   \n",
      "27       2007-08           11   1940          -385.0           -385.0   \n",
      "29       2015-16            6   1963          -202.0           -202.0   \n",
      "30       1998-99            7   1974          -159.0           -159.0   \n",
      "31       1987-88            4   1943          -228.0           -228.0   \n",
      "32       2005-06           12   1977          -269.0           -269.0   \n",
      "34       1990-91            4   1941          -169.0           -169.0   \n",
      "37       2014-15            5   1962          -145.0           -145.0   \n",
      "39       2008-09            8   1978           -94.0            -94.0   \n",
      "40       1979-80           12   1971           -94.0            -94.0   \n",
      "41       1969-70            7   1963           -56.0            -56.0   \n",
      "46       2006-07            7   1947          -114.0           -114.0   \n",
      "49       1950-51           10   1945          -107.0           -107.0   \n",
      "50       1957-58           14   1953           -62.0            -62.0   \n",
      "52       1980-81           10   1979           -45.0            -45.0   \n",
      "54       1993-94           16   1950          -112.0           -112.0   \n",
      "57       1956-57           16   1956           -20.0            -20.0   \n",
      "58       1951-52           16   1951           -34.0            -34.0   \n",
      "59       1955-56           15   1955           -31.0            -31.0   \n",
      "\n",
      "    Winning Percent  \n",
      "8         35.146022  \n",
      "10        36.797386  \n",
      "11        34.511190  \n",
      "12        31.582538  \n",
      "14        32.304527  \n",
      "16        31.075697  \n",
      "18        33.704453  \n",
      "19        33.485401  \n",
      "21        29.380054  \n",
      "22        28.987730  \n",
      "23        29.941003  \n",
      "26        31.376518  \n",
      "27        24.744027  \n",
      "29        28.109453  \n",
      "30        29.078014  \n",
      "31        30.281690  \n",
      "32        23.214286  \n",
      "34        30.838323  \n",
      "37        29.078014  \n",
      "39        26.881720  \n",
      "40        28.921569  \n",
      "41        29.444444  \n",
      "46        29.310345  \n",
      "49        27.777778  \n",
      "50        32.222222  \n",
      "52        25.000000  \n",
      "54        19.117647  \n",
      "57        23.333333  \n",
      "58        23.333333  \n",
      "59        16.666667  \n",
      "\n",
      "[30 rows x 24 columns]\n"
     ]
    }
   ],
   "source": [
    "# print the team details where Debut between 1939 and 1980\n",
    "print(dataset.loc[(dataset['Debut1'] >=1939) & (dataset['Debut1']<=1980)])"
   ]
  },
  {
   "cell_type": "code",
   "execution_count": 86,
   "metadata": {},
   "outputs": [
    {
     "data": {
      "text/html": [
       "<div>\n",
       "<style scoped>\n",
       "    .dataframe tbody tr th:only-of-type {\n",
       "        vertical-align: middle;\n",
       "    }\n",
       "\n",
       "    .dataframe tbody tr th {\n",
       "        vertical-align: top;\n",
       "    }\n",
       "\n",
       "    .dataframe thead th {\n",
       "        text-align: right;\n",
       "    }\n",
       "</style>\n",
       "<table border=\"1\" class=\"dataframe\">\n",
       "  <thead>\n",
       "    <tr style=\"text-align: right;\">\n",
       "      <th></th>\n",
       "      <th>Pos</th>\n",
       "      <th>Team</th>\n",
       "      <th>Seasons</th>\n",
       "      <th>Points</th>\n",
       "      <th>GamesPlayed</th>\n",
       "      <th>GamesWon</th>\n",
       "      <th>GamesDrawn</th>\n",
       "      <th>GamesLost</th>\n",
       "      <th>GoalsFor</th>\n",
       "      <th>GoalsAgainst</th>\n",
       "      <th>...</th>\n",
       "      <th>Fifth</th>\n",
       "      <th>Sixth</th>\n",
       "      <th>T</th>\n",
       "      <th>Debut</th>\n",
       "      <th>Since/LastApp</th>\n",
       "      <th>BestPosition</th>\n",
       "      <th>Debut1</th>\n",
       "      <th>Goal_diff_count</th>\n",
       "      <th>Goal_diff_count1</th>\n",
       "      <th>Winning Percent</th>\n",
       "    </tr>\n",
       "  </thead>\n",
       "  <tbody>\n",
       "    <tr>\n",
       "      <td>0</td>\n",
       "      <td>1</td>\n",
       "      <td>Real Madrid</td>\n",
       "      <td>86</td>\n",
       "      <td>4385.0</td>\n",
       "      <td>2762</td>\n",
       "      <td>1647</td>\n",
       "      <td>552</td>\n",
       "      <td>563</td>\n",
       "      <td>5947.0</td>\n",
       "      <td>3140.0</td>\n",
       "      <td>...</td>\n",
       "      <td>3</td>\n",
       "      <td>4</td>\n",
       "      <td>79</td>\n",
       "      <td>1929</td>\n",
       "      <td>1929</td>\n",
       "      <td>1</td>\n",
       "      <td>1929</td>\n",
       "      <td>2807.0</td>\n",
       "      <td>2807.0</td>\n",
       "      <td>59.630702</td>\n",
       "    </tr>\n",
       "    <tr>\n",
       "      <td>1</td>\n",
       "      <td>2</td>\n",
       "      <td>Barcelona</td>\n",
       "      <td>86</td>\n",
       "      <td>4262.0</td>\n",
       "      <td>2762</td>\n",
       "      <td>1581</td>\n",
       "      <td>573</td>\n",
       "      <td>608</td>\n",
       "      <td>5900.0</td>\n",
       "      <td>3114.0</td>\n",
       "      <td>...</td>\n",
       "      <td>4</td>\n",
       "      <td>6</td>\n",
       "      <td>83</td>\n",
       "      <td>1929</td>\n",
       "      <td>1929</td>\n",
       "      <td>1</td>\n",
       "      <td>1929</td>\n",
       "      <td>2786.0</td>\n",
       "      <td>2786.0</td>\n",
       "      <td>57.241130</td>\n",
       "    </tr>\n",
       "    <tr>\n",
       "      <td>2</td>\n",
       "      <td>3</td>\n",
       "      <td>Atletico Madrid</td>\n",
       "      <td>80</td>\n",
       "      <td>3442.0</td>\n",
       "      <td>2614</td>\n",
       "      <td>1241</td>\n",
       "      <td>598</td>\n",
       "      <td>775</td>\n",
       "      <td>4534.0</td>\n",
       "      <td>3309.0</td>\n",
       "      <td>...</td>\n",
       "      <td>7</td>\n",
       "      <td>6</td>\n",
       "      <td>56</td>\n",
       "      <td>1929</td>\n",
       "      <td>2002-03</td>\n",
       "      <td>1</td>\n",
       "      <td>1929</td>\n",
       "      <td>1225.0</td>\n",
       "      <td>1225.0</td>\n",
       "      <td>47.475134</td>\n",
       "    </tr>\n",
       "    <tr>\n",
       "      <td>3</td>\n",
       "      <td>4</td>\n",
       "      <td>Valencia</td>\n",
       "      <td>82</td>\n",
       "      <td>3386.0</td>\n",
       "      <td>2664</td>\n",
       "      <td>1187</td>\n",
       "      <td>616</td>\n",
       "      <td>861</td>\n",
       "      <td>4398.0</td>\n",
       "      <td>3469.0</td>\n",
       "      <td>...</td>\n",
       "      <td>10</td>\n",
       "      <td>7</td>\n",
       "      <td>50</td>\n",
       "      <td>1931-32</td>\n",
       "      <td>1987-88</td>\n",
       "      <td>1</td>\n",
       "      <td>1931</td>\n",
       "      <td>929.0</td>\n",
       "      <td>929.0</td>\n",
       "      <td>44.557057</td>\n",
       "    </tr>\n",
       "    <tr>\n",
       "      <td>4</td>\n",
       "      <td>5</td>\n",
       "      <td>Athletic Bilbao</td>\n",
       "      <td>86</td>\n",
       "      <td>3368.0</td>\n",
       "      <td>2762</td>\n",
       "      <td>1209</td>\n",
       "      <td>633</td>\n",
       "      <td>920</td>\n",
       "      <td>4631.0</td>\n",
       "      <td>3700.0</td>\n",
       "      <td>...</td>\n",
       "      <td>8</td>\n",
       "      <td>10</td>\n",
       "      <td>49</td>\n",
       "      <td>1929</td>\n",
       "      <td>1929</td>\n",
       "      <td>1</td>\n",
       "      <td>1929</td>\n",
       "      <td>931.0</td>\n",
       "      <td>931.0</td>\n",
       "      <td>43.772629</td>\n",
       "    </tr>\n",
       "  </tbody>\n",
       "</table>\n",
       "<p>5 rows × 24 columns</p>\n",
       "</div>"
      ],
      "text/plain": [
       "   Pos             Team  Seasons  Points GamesPlayed GamesWon GamesDrawn  \\\n",
       "0    1      Real Madrid       86  4385.0        2762     1647        552   \n",
       "1    2        Barcelona       86  4262.0        2762     1581        573   \n",
       "2    3  Atletico Madrid       80  3442.0        2614     1241        598   \n",
       "3    4         Valencia       82  3386.0        2664     1187        616   \n",
       "4    5  Athletic Bilbao       86  3368.0        2762     1209        633   \n",
       "\n",
       "  GamesLost  GoalsFor  GoalsAgainst  ... Fifth Sixth   T    Debut  \\\n",
       "0       563    5947.0        3140.0  ...     3     4  79     1929   \n",
       "1       608    5900.0        3114.0  ...     4     6  83     1929   \n",
       "2       775    4534.0        3309.0  ...     7     6  56     1929   \n",
       "3       861    4398.0        3469.0  ...    10     7  50  1931-32   \n",
       "4       920    4631.0        3700.0  ...     8    10  49     1929   \n",
       "\n",
       "  Since/LastApp BestPosition Debut1 Goal_diff_count Goal_diff_count1  \\\n",
       "0          1929            1   1929          2807.0           2807.0   \n",
       "1          1929            1   1929          2786.0           2786.0   \n",
       "2       2002-03            1   1929          1225.0           1225.0   \n",
       "3       1987-88            1   1931           929.0            929.0   \n",
       "4          1929            1   1929           931.0            931.0   \n",
       "\n",
       "   Winning Percent  \n",
       "0        59.630702  \n",
       "1        57.241130  \n",
       "2        47.475134  \n",
       "3        44.557057  \n",
       "4        43.772629  \n",
       "\n",
       "[5 rows x 24 columns]"
      ]
     },
     "execution_count": 86,
     "metadata": {},
     "output_type": "execute_result"
    }
   ],
   "source": [
    "#Print the list of teams which came Top 5 in terms of points\n",
    "dataset['Points']=dataset['Points'].astype(float) #convert the object type to float to choose the top 5\n",
    "dataset.nlargest(5,'Points')"
   ]
  },
  {
   "cell_type": "code",
   "execution_count": 91,
   "metadata": {},
   "outputs": [],
   "source": [
    "# find the Goal_diff_count = GoalsFor - GoalsAgainst and choose the max/min team\n",
    "dataset['Goal_diff_count']=dataset['GoalsFor'].astype(float)-dataset['GoalsAgainst'].astype(float)"
   ]
  },
  {
   "cell_type": "code",
   "execution_count": 161,
   "metadata": {},
   "outputs": [
    {
     "name": "stdout",
     "output_type": "stream",
     "text": [
      "Max Goal Team           Team  Goal_diff_count\n",
      "0  Real Madrid           2807.0\n",
      "MIn Goal Team                 Team  Goal_diff_count\n",
      "13  Racing Santander           -525.0\n"
     ]
    }
   ],
   "source": [
    "#print(dataset.loc[:,['GoalsFor','GoalsAgainst','Goal_diff_count']])\n",
    "#print(dataset.loc[:,['Team','Goal_diff_count']])\n",
    "#print(dataset.loc[:,['Team','Goal_diff_count']].sort_values(by='Goal_diff_count',ascending=False))\n",
    "print(\"Max Goal Team\",dataset[['Team','Goal_diff_count']][dataset.Goal_diff_count==dataset.Goal_diff_count.max()])\n",
    "print(\"MIn Goal Team\",dataset[['Team','Goal_diff_count']][dataset.Goal_diff_count==dataset.Goal_diff_count.min()])"
   ]
  },
  {
   "cell_type": "code",
   "execution_count": 162,
   "metadata": {},
   "outputs": [],
   "source": [
    "##Another approach to print the Max and min goal team using function\n",
    "dataset['GoalsFor']=dataset['GoalsFor'].astype('float')\n",
    "dataset['GoalsAgainst']=dataset['GoalsAgainst'].astype('float')\n"
   ]
  },
  {
   "cell_type": "code",
   "execution_count": 163,
   "metadata": {},
   "outputs": [],
   "source": [
    "#print(dataset.loc[(dataset['Debut1']>'1939') & (dataset['Debut1']<'1980')])\n",
    "def fun_Goal_diff_count1(dataset):\n",
    "    dataset['Goal_diff_count1']=dataset.apply(lambda row:row['GoalsFor']-row['GoalsAgainst'],axis=1)\n",
    "    print('Max Goal Team:',dataset.loc[:,['Team','Goal_diff_count']].max(),\" Goals :\",dataset['Goal_diff_count1'].max())\n",
    "    print('MIN Goal Team:',dataset.loc[(dataset['Goal_diff_count1']==dataset['Goal_diff_count1'].min())]['Team'],\" Goals :\",dataset['Goal_diff_count1'].min())"
   ]
  },
  {
   "cell_type": "code",
   "execution_count": 164,
   "metadata": {},
   "outputs": [
    {
     "name": "stdout",
     "output_type": "stream",
     "text": [
      "Max Goal Team: Team               Zaragoza\n",
      "Goal_diff_count        2807\n",
      "dtype: object  Goals : 2807.0\n",
      "MIN Goal Team: 13    Racing Santander\n",
      "Name: Team, dtype: object  Goals : -525.0\n",
      "None\n"
     ]
    }
   ],
   "source": [
    "print(fun_Goal_diff_count1(dataset))"
   ]
  },
  {
   "cell_type": "code",
   "execution_count": 165,
   "metadata": {},
   "outputs": [],
   "source": [
    "#create the column- winning percent \n",
    "dataset['Winning Percent']=(dataset['GamesWon'].astype('float')/dataset['GamesPlayed'].astype('float'))*100"
   ]
  },
  {
   "cell_type": "code",
   "execution_count": 166,
   "metadata": {},
   "outputs": [
    {
     "name": "stdout",
     "output_type": "stream",
     "text": [
      "              Team  Winning Percent\n",
      "0      Real Madrid        59.630702\n",
      "1        Barcelona        57.241130\n",
      "2  Atletico Madrid        47.475134\n",
      "3         Valencia        44.557057\n",
      "4  Athletic Bilbao        43.772629\n"
     ]
    }
   ],
   "source": [
    "#create the column- winning percent \n",
    "print(dataset.nlargest(5,'Winning Percent')[['Team','Winning Percent']])"
   ]
  },
  {
   "cell_type": "code",
   "execution_count": 167,
   "metadata": {},
   "outputs": [
    {
     "name": "stdout",
     "output_type": "stream",
     "text": [
      "BestPosition\n",
      "1     27933.0\n",
      "2      6904.0\n",
      "3      5221.0\n",
      "4      6563.0\n",
      "5      1884.0\n",
      "6      2113.0\n",
      "7      1186.0\n",
      "8      1134.0\n",
      "9        96.0\n",
      "10      450.0\n",
      "11      445.0\n",
      "12      511.0\n",
      "14       71.0\n",
      "15       14.0\n",
      "16       81.0\n",
      "17      266.0\n",
      "19       81.0\n",
      "20       34.0\n",
      "Name: Points, dtype: float64\n"
     ]
    }
   ],
   "source": [
    "#print the best position team\n",
    "print(dataset.groupby(['BestPosition'])['Points'].sum())"
   ]
  },
  {
   "cell_type": "code",
   "execution_count": null,
   "metadata": {},
   "outputs": [],
   "source": []
  }
 ],
 "metadata": {
  "kernelspec": {
   "display_name": "Python 3",
   "language": "python",
   "name": "python3"
  },
  "language_info": {
   "codemirror_mode": {
    "name": "ipython",
    "version": 3
   },
   "file_extension": ".py",
   "mimetype": "text/x-python",
   "name": "python",
   "nbconvert_exporter": "python",
   "pygments_lexer": "ipython3",
   "version": "3.7.4"
  }
 },
 "nbformat": 4,
 "nbformat_minor": 2
}
