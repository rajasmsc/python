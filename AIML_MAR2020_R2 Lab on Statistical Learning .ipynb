{
 "cells": [
  {
   "cell_type": "markdown",
   "metadata": {},
   "source": [
    "#### > Import below libraries and proceed <"
   ]
  },
  {
   "cell_type": "code",
   "execution_count": 1,
   "metadata": {
    "colab": {
     "base_uri": "https://localhost:8080/",
     "height": 71
    },
    "colab_type": "code",
    "id": "ea0ttzRzZwcp",
    "outputId": "7336f693-1fb2-478d-f377-916d245295c8"
   },
   "outputs": [],
   "source": [
    "import numpy       as np\n",
    "import pandas      as pd\n",
    "import scipy.stats as stats\n",
    "from scipy.stats             import ttest_1samp,ttest_ind, wilcoxon\n",
    "from statsmodels.stats.power import ttest_power\n",
    "import matplotlib.pyplot     as     plt"
   ]
  },
  {
   "cell_type": "markdown",
   "metadata": {},
   "source": [
    "| Question No. | Marks | Total |\n",
    "|  -------- | ----- | ---- |\n",
    "| Q1- Q5 | 1 Mark each | 5 Marks |\n",
    "| Q6- Q10 | 2 Mark each | 10 Marks |\n",
    "| Total | --------------> | 15 Marks|\n"
   ]
  },
  {
   "cell_type": "markdown",
   "metadata": {
    "colab_type": "text",
    "id": "QYZr9yOCs4A-"
   },
   "source": [
    "## <font color ='Dark '>Q1- Q3 Description-  The data collected by an Advertisement agency has revealed that out of 2800 visitors, 56 visitors clicked on 1 Advertisement, 30 clicked on 2 advertisements and 14 clicked on 3 advertisements and the remaining did not click on any advertisement.</font>\n",
    "\n",
    "\n"
   ]
  },
  {
   "cell_type": "markdown",
   "metadata": {},
   "source": [
    "## Calculate\n",
    "\n",
    "### Q1 The probability that a visitor to the website will not click on any advertisement. \n",
    "(1 Mark)"
   ]
  },
  {
   "cell_type": "code",
   "execution_count": 37,
   "metadata": {
    "colab": {},
    "colab_type": "code",
    "id": "V7fgNooGyDst"
   },
   "outputs": [
    {
     "name": "stdout",
     "output_type": "stream",
     "text": [
      "Number of users clicked advertisement 100\n",
      "These many users have not click on any advertisement 96.43\n"
     ]
    }
   ],
   "source": [
    "# total user as per statement -2800\n",
    "total_vistor=2800\n",
    "# user performed action based on \n",
    "# array arranged in the order[ no_of_users,no_of_advertisement]\n",
    "visitor_action= np.array([[56,1], [30,2],[14,3]])\n",
    "visitor_clicked_advertisement=visitor_action[:, 0].sum()\n",
    "print(\"Number of users clicked advertisement\",visitor_clicked_advertisement)\n",
    "non_advertisement=((total_vistor-visitor_clicked_advertisement)/total_vistor)*100\n",
    "print(\"These many users have not click on any advertisement\",round(non_advertisement,2))"
   ]
  },
  {
   "cell_type": "markdown",
   "metadata": {
    "colab_type": "text",
    "id": "dDaMBGPnwLJA"
   },
   "source": [
    "### Q2 The probability that a visitor to the website will click on an advertisement. \n",
    "(1 Mark)"
   ]
  },
  {
   "cell_type": "code",
   "execution_count": 40,
   "metadata": {
    "colab": {},
    "colab_type": "code",
    "id": "jN83WUlYyFFF"
   },
   "outputs": [
    {
     "name": "stdout",
     "output_type": "stream",
     "text": [
      "These many users have  clicked on any advertisement 3.57\n"
     ]
    }
   ],
   "source": [
    "vistor_click_adv=(visitor_clicked_advertisement/total_vistor)*100\n",
    "print(\"These many users have  clicked on any advertisement\",round(vistor_click_adv,2))"
   ]
  },
  {
   "cell_type": "markdown",
   "metadata": {
    "colab_type": "text",
    "id": "x1A8GTBbwP-D"
   },
   "source": [
    "### Q3 The probability that a visitor to the website will click on more than one advertisement. \n",
    "(1 Mark)"
   ]
  },
  {
   "cell_type": "code",
   "execution_count": 41,
   "metadata": {
    "colab": {},
    "colab_type": "code",
    "id": "W7uYaOR2yGRx"
   },
   "outputs": [
    {
     "name": "stdout",
     "output_type": "stream",
     "text": [
      "These many users  clicked on any advertisement 44\n",
      "Probability of >1 adversitment users 1.57\n"
     ]
    }
   ],
   "source": [
    "#select the rows based on more than > 1 click on advertisement\n",
    "rows=np.where(visitor_action[:,1]>1)\n",
    "adverstiment=visitor_action[rows]\n",
    "#sum the total users\n",
    "adverstiment=adverstiment[:,0].sum()\n",
    "print(\"These many users  clicked on any advertisement\",adverstiment)\n",
    "print(\"Probability of >1 adversitment users\",round((adverstiment/total_vistor)*100,2))"
   ]
  },
  {
   "cell_type": "markdown",
   "metadata": {
    "colab_type": "text",
    "id": "Bn_1RzXcu-Q5"
   },
   "source": [
    "## <font color ='Dark '> Q4 -5 Description - At a popular company service center, a total of 100 complaints were received. 80 customers complained about late delivery of the items and 60 complained about poor product quality.\n",
    "</font>\n",
    "\n"
   ]
  },
  {
   "cell_type": "markdown",
   "metadata": {},
   "source": [
    "### Q4 Calculate the probability that a customer complaint will be about both product quality and late delivery. \n",
    "(1 Mark)"
   ]
  },
  {
   "cell_type": "code",
   "execution_count": 55,
   "metadata": {
    "colab": {},
    "colab_type": "code",
    "id": "FkIzX0E9yJcO"
   },
   "outputs": [
    {
     "name": "stdout",
     "output_type": "stream",
     "text": [
      "Total complaints received for both late & quality issue 40\n",
      "Probability of both_late_quality 40.0\n"
     ]
    }
   ],
   "source": [
    "total_complaints=100\n",
    "late_delivery=80\n",
    "poor_quality=60\n",
    "both_late_quality=(late_delivery+poor_quality)-total_complaints\n",
    "prob_late_quality=(both_late_quality/total_complaints)*100\n",
    "print(\"Total complaints received for both late & quality issue\",both_late_quality)\n",
    "print(\"Probability of both_late_quality\",prob_late_quality)"
   ]
  },
  {
   "cell_type": "markdown",
   "metadata": {
    "colab_type": "text",
    "id": "O_XYI2Atwbuw"
   },
   "source": [
    "### Q5 - What is the probability that a complaint will be only about late delivery? \n",
    "(1 Mark)"
   ]
  },
  {
   "cell_type": "code",
   "execution_count": 58,
   "metadata": {
    "colab": {},
    "colab_type": "code",
    "id": "qufjDipWyKIJ"
   },
   "outputs": [
    {
     "name": "stdout",
     "output_type": "stream",
     "text": [
      "Proability of only late delivery 40.0\n",
      "Proability of only poor quality 20.0\n"
     ]
    }
   ],
   "source": [
    "only_late_delivery=((late_delivery/total_complaints)*100)-prob_late_quality\n",
    "print(\"Proability of only late delivery\",only_late_delivery)\n",
    "only_poor_quality=((poor_quality/total_complaints)*100)-prob_late_quality\n",
    "print(\"Proability of only poor quality\",only_poor_quality)"
   ]
  },
  {
   "cell_type": "markdown",
   "metadata": {
    "colab_type": "text",
    "id": "Ufagdi4UpLGN"
   },
   "source": [
    "### Q6 You are given the daily sugar intake of 11 diabetic patients in the following Python code. Is there any evidence to the claim that the average daily sugar intake of the diabetic patients is 7600 mg. \n",
    "(2 Marks)\n",
    "\n",
    "* Hint: Use t test"
   ]
  },
  {
   "cell_type": "code",
   "execution_count": 59,
   "metadata": {},
   "outputs": [],
   "source": [
    "# daily intake of Sugar in milligrams for 11 diabetic patients\n",
    "avg_level=7600\n",
    "daily_intake = np.array([5560, 5770, 7640, 5180, 5690, 6435, 6803, 7689, 6876, 8213, 8765])"
   ]
  },
  {
   "cell_type": "code",
   "execution_count": 66,
   "metadata": {
    "colab": {},
    "colab_type": "code",
    "id": "lVazFh46yLVz"
   },
   "outputs": [
    {
     "name": "stdout",
     "output_type": "stream",
     "text": [
      "p value 0.04481624562570511\n"
     ]
    }
   ],
   "source": [
    "# as per null hypothesis,avg daily sugar intake is equivallent to 7600mg\n",
    "t_stat,p_value=stats.ttest_1samp(daily_intake,avg_level)\n",
    "print(\"p value\",p_value)"
   ]
  },
  {
   "cell_type": "markdown",
   "metadata": {
    "colab_type": "text",
    "id": "PzNPNv1lZwc7"
   },
   "source": [
    "## <font color ='Dark '>Q7-Q8 Description Write the null and alternative hypothesis from the following hypopthesis description:</font>\n"
   ]
  },
  {
   "cell_type": "markdown",
   "metadata": {},
   "source": [
    "### Q7Average annual salary of Data Scientists is different for those having Ph.D in Statistics and those who do not.\n",
    "(2 Marks)\n",
    "* Let $\\mu_{PhD}$ be the average annual salary of a Data scientist with Ph.D in Statistics.\n",
    "* Let $\\mu_{NoPhD}$ be the average annual salary of a Data scientist without Ph.D in Statistics."
   ]
  },
  {
   "cell_type": "code",
   "execution_count": null,
   "metadata": {
    "colab_type": "text",
    "id": "qc3FIR-4yQKn"
   },
   "outputs": [],
   "source": [
    "#The null hypothesis: It is a statement of no difference between sample means or proportions or no difference between a sample mean \n",
    "#NUll hypotheseis is average salary of datascientist with Ph.d & without Ph.d is equal\n",
    "#Alternate hypotheseis is average salary of datascientist with Ph.d & without Ph.d is different"
   ]
  },
  {
   "cell_type": "markdown",
   "metadata": {
    "colab_type": "text",
    "id": "OIUIIEBEZwc9"
   },
   "source": [
    "### Q8 Average annual salary of Data Scientists is more for those having Ph.D in Statistics and those who do not. \n",
    "(2 Marks)"
   ]
  },
  {
   "cell_type": "code",
   "execution_count": null,
   "metadata": {
    "colab_type": "text",
    "id": "016BhZvgyQ8l"
   },
   "outputs": [],
   "source": [
    "#The null hypothesis: It is a statement of no difference between sample means or proportions or no difference between a sample mean \n",
    "# Here  the average annual salary of data scientist with P.hd & without P.hd is different,hence null hypthese is failed\n",
    "\n",
    "## we reject the null hypothesis"
   ]
  },
  {
   "cell_type": "markdown",
   "metadata": {
    "colab_type": "text",
    "id": "buanCghHvjfy"
   },
   "source": [
    "### Q9 - Compare the following two unrelated samples. Data was collected on the weight of women and men enrolled in a weight reduction program. At 𝛼 α = 0.05, test whether the weight of these two samples is different.\n",
    "(2 Marks)"
   ]
  },
  {
   "cell_type": "code",
   "execution_count": 72,
   "metadata": {
    "colab": {},
    "colab_type": "code",
    "id": "aR0aTl3Vvc1B"
   },
   "outputs": [],
   "source": [
    "Weight_Female       =  [ 53.8, 54.4, 51.2, 52.5, 61.0, 50.6, 51.6, 70.0]\n",
    "Weight_Male         =  [ 72.5, 80.3, 71.3, 67.7, 66.2, 73.4, 61.3, 76.8]"
   ]
  },
  {
   "cell_type": "markdown",
   "metadata": {
    "colab_type": "text",
    "id": "ELXhCM2Lvs0F"
   },
   "source": [
    "NULL HYPOTHSIS MALE AND FEMALE WEIGHT IS EQUAL.\n",
    "\n",
    "ALTERNATE HYPOTHESIS MALE AND FEMALE WEIGHT IS DIFFERENT.\n",
    "\n",
    "OUR CONDITION IS TO PROVE THAT WEIGHT OF THE MALE AND FEMALE ARE NOT EQUAL SO,WE REQUIRE ALTERNATE HYPOTHESIS."
   ]
  },
  {
   "cell_type": "code",
   "execution_count": 77,
   "metadata": {
    "colab": {},
    "colab_type": "code",
    "id": "MnhdZepcyTak"
   },
   "outputs": [
    {
     "name": "stdout",
     "output_type": "stream",
     "text": [
      "p-value 0.00024034957515992796\n",
      "we reject null hypothesis\n"
     ]
    }
   ],
   "source": [
    "#NULL HYPOTHSIS MALE AND FEMALE WEIGHT IS EQUAL\n",
    "#ALTERNATE HYPOTHESIS MALE AND FEMALE WEIGHT IS DIFFERENT.\n",
    "ttest,pval = ttest_ind(Weight_Female,Weight_Male)\n",
    "print(\"p-value\",pval)\n",
    "if pval <0.05:\n",
    "  print(\"we reject null hypothesis\")\n",
    "else:\n",
    "  print(\"we accept null hypothesis\")\n",
    "# p-value is greater than 0.05"
   ]
  },
  {
   "cell_type": "markdown",
   "metadata": {
    "colab_type": "text",
    "id": "CR60_1hJwxKl"
   },
   "source": [
    "### Q10 - A Cable service provider company is interested in checking whether or not the customer churn depends on customer segment. Use 5% as level of significance.\n",
    "(2 Marks)\n"
   ]
  },
  {
   "cell_type": "markdown",
   "metadata": {
    "colab_type": "text",
    "id": "5jTapB-2rFZV"
   },
   "source": [
    "| Customer Segment | Churned | Retained |\n",
    "|  -------- | ----- | ---- |\n",
    "| S1 | 15 | 142 |\n",
    "| S2 | 24 | 400 |\n",
    "| S3 | 30 | 389 |\n"
   ]
  },
  {
   "cell_type": "code",
   "execution_count": 75,
   "metadata": {
    "colab": {},
    "colab_type": "code",
    "id": "Knttaq6zyYoz"
   },
   "outputs": [
    {
     "name": "stdout",
     "output_type": "stream",
     "text": [
      "pvalue is  0.24907816314986156\n"
     ]
    }
   ],
   "source": [
    "#null hypothesis=customer segment is not depends on churn customer\n",
    "# alternate hypothesis= customer segment is depended on churn cust\n",
    "customer_arr=[[15,142],[24,400],[30,389]]\n",
    "stat,pvalue,dof,exp_freq=stats.chi2_contingency(customer_arr)\n",
    "print(\"pvalue is \",pvalue)\n",
    "# the p_value is > 0.24 which is not greater than 0.05 hence we fail to reject the null hypothesis"
   ]
  },
  {
   "cell_type": "markdown",
   "metadata": {
    "colab_type": "text",
    "id": "7IsDxBgOZwfX"
   },
   "source": [
    "## -------------------------------------- End of Test --------------------------------------"
   ]
  }
 ],
 "metadata": {
  "colab": {
   "collapsed_sections": [
    "7IsDxBgOZwfX"
   ],
   "name": "R2- Lab-Statistical Learning- Questions.ipynb",
   "provenance": []
  },
  "kernelspec": {
   "display_name": "Python 3",
   "language": "python",
   "name": "python3"
  },
  "language_info": {
   "codemirror_mode": {
    "name": "ipython",
    "version": 3
   },
   "file_extension": ".py",
   "mimetype": "text/x-python",
   "name": "python",
   "nbconvert_exporter": "python",
   "pygments_lexer": "ipython3",
   "version": "3.7.4"
  }
 },
 "nbformat": 4,
 "nbformat_minor": 1
}
